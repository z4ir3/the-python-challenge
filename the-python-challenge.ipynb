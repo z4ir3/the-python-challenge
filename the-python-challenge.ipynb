{
 "cells": [
  {
   "cell_type": "markdown",
   "metadata": {},
   "source": [
    "# The Python Challenge\n",
    "Homepage: http://www.pythonchallenge.com/"
   ]
  },
  {
   "cell_type": "markdown",
   "metadata": {},
   "source": [
    "## Level 0 \n",
    "### Solution: 274877906944"
   ]
  },
  {
   "cell_type": "markdown",
   "metadata": {},
   "source": [
    "Just write 2^38 = 274877906944 in place of the 0 in current url."
   ]
  },
  {
   "cell_type": "markdown",
   "metadata": {},
   "source": [
    "## Level 1\n",
    "\n",
    "### Solution: ocr\n",
    "\n",
    "We are given the following text:"
   ]
  },
  {
   "cell_type": "code",
   "execution_count": 255,
   "metadata": {},
   "outputs": [
    {
     "data": {
      "text/plain": [
       "\"g fmnc wms bgblr rpylqjyrc gr zw fylb. rfyrq ufyr amknsrcpq ypc dmp. bmgle gr gl zw fylb gq glcddgagclr ylb rfyr'q ufw rfgq rcvr gq qm jmle. sqgle qrpgle.kyicrpylq() gq pcamkkclbcb. lmu ynnjw ml rfc spj.\""
      ]
     },
     "execution_count": 255,
     "metadata": {},
     "output_type": "execute_result"
    }
   ],
   "source": [
    "text = \"g fmnc wms bgblr rpylqjyrc gr zw fylb. rfyrq ufyr amknsrcpq ypc dmp. bmgle gr gl zw fylb gq glcddgagclr ylb rfyr'q ufw rfgq rcvr gq qm jmle. sqgle qrpgle.kyicrpylq() gq pcamkkclbcb. lmu ynnjw ml rfc spj.\"\n",
    "text"
   ]
  },
  {
   "cell_type": "markdown",
   "metadata": {},
   "source": [
    "and the solution is that every letter in the text has to be mapped to the letter in the to next positions in the alphabet, for example: g->i, k->m and so on."
   ]
  },
  {
   "cell_type": "code",
   "execution_count": 256,
   "metadata": {},
   "outputs": [],
   "source": [
    "# alphabet (with repeated \"a\" and \"b\" at the end)\n",
    "alphabet = ['a','b','c','d','e','f','g','h','i','j','k','l','m','n','o','p','q','r','s','t','u','v','w','x','y','z','a','b']\n",
    "\n",
    "# make a list\n",
    "text = list( text )"
   ]
  },
  {
   "cell_type": "code",
   "execution_count": 257,
   "metadata": {},
   "outputs": [],
   "source": [
    "def decrypt(text):\n",
    "    for i in range(len(text)):\n",
    "        # skip characters which do not have to be mapped\n",
    "        if text[i] in alphabet:\n",
    "            # find the position of current character text[i] in the alphabet \n",
    "            pos_c_in_alphabet = [ pos for pos, char in enumerate(alphabet[:26]) if char == text[i] ]\n",
    "            # cast the position to int and add 2 \n",
    "            new_decrypr_pos = int( \"\".join(map(str, pos_c_in_alphabet)) ) + 2\n",
    "            # assign the new letter from the alphabet to the original one in text[i]\n",
    "            text[i] = alphabet[new_decrypr_pos]\n",
    "        #endif\n",
    "    #endfor\n",
    "    # join in a single string the decrypted text\n",
    "    text = \"\".join(text)\n",
    "    return text\n",
    "#endfunction"
   ]
  },
  {
   "cell_type": "code",
   "execution_count": 258,
   "metadata": {},
   "outputs": [],
   "source": [
    "# decrypt text\n",
    "newtext = decrypt(text)"
   ]
  },
  {
   "cell_type": "code",
   "execution_count": 259,
   "metadata": {},
   "outputs": [
    {
     "name": "stdout",
     "output_type": "stream",
     "text": [
      "i hope you didnt translate it by hand. thats what computers are for. doing it in by hand is inefficient and that's why this text is so long. using string.maketrans() is recommended. now apply on the url.\n"
     ]
    }
   ],
   "source": [
    "print( newtext )"
   ]
  },
  {
   "cell_type": "markdown",
   "metadata": {},
   "source": [
    "I didn't know about string.maketrans()$\\dots$ Anyway, it says to now decrypt the current url:"
   ]
  },
  {
   "cell_type": "code",
   "execution_count": 261,
   "metadata": {},
   "outputs": [
    {
     "name": "stdout",
     "output_type": "stream",
     "text": [
      "Go here: jvvr://yyy.ravjqpejcnngpig.eqo/re/fgh/ocr.jvon\n"
     ]
    }
   ],
   "source": [
    "url = \"http://www.pythonchallenge.com/pc/def/map.html\"\n",
    "url = list( url )\n",
    "newurl = decrypt(url)\n",
    "print('Go here:', newurl)"
   ]
  },
  {
   "cell_type": "markdown",
   "metadata": {},
   "source": [
    "You realise that the above url does not exits and that the solution is to write \"ocr\" in current url. This will send to the next level."
   ]
  },
  {
   "cell_type": "markdown",
   "metadata": {},
   "source": [
    "## Level 2\n",
    "\n",
    "### Solution: equality\n",
    "We have to see to the source page. There will be a comment saying \"find rare characters in the mess below\", where the mess below is this:"
   ]
  },
  {
   "cell_type": "code",
   "execution_count": 9,
   "metadata": {},
   "outputs": [],
   "source": [
    "mess = open('level-2.txt').read()"
   ]
  },
  {
   "cell_type": "markdown",
   "metadata": {},
   "source": [
    "The messy text has been copied and pasted from the web source to a txt file.\n",
    "\n",
    "The solution requires trasforming the mess text into list, counting the elements, and look for the ones that \n",
    "appear with less frequency."
   ]
  },
  {
   "cell_type": "code",
   "execution_count": 10,
   "metadata": {},
   "outputs": [],
   "source": [
    "listmess = list(mess)"
   ]
  },
  {
   "cell_type": "code",
   "execution_count": 262,
   "metadata": {},
   "outputs": [
    {
     "name": "stdout",
     "output_type": "stream",
     "text": [
      "Elements in the list: \n",
      "dict_keys(['%', '$', '@', '_', '^', '#', ')', '&', '!', '+', ']', '*', '}', '[', '(', '{', '\\n', 'e', 'q', 'u', 'a', 'l', 'i', 't', 'y'])\n",
      "\n",
      "Frequency: \n",
      "dict_values([6104, 6046, 6157, 6112, 6030, 6115, 6186, 6043, 6079, 6066, 6152, 6034, 6105, 6108, 6154, 6046, 1219, 1, 1, 1, 1, 1, 1, 1, 1])\n"
     ]
    }
   ],
   "source": [
    "from collections import Counter\n",
    "\n",
    "print('Elements in the list: ')\n",
    "print( Counter(listmess).keys()   ) # returns unique elements in the list \n",
    "print('\\nFrequency: ')\n",
    "print( Counter(listmess).values() ) # counts the elements' frequency"
   ]
  },
  {
   "cell_type": "markdown",
   "metadata": {},
   "source": [
    "We see the letters 'e', 'q', 'u', 'a', 'l', 'i', 't', 'y' appear only once, respectively. \n",
    "Then, \"equality.html\" will send to the next level."
   ]
  },
  {
   "cell_type": "markdown",
   "metadata": {},
   "source": [
    "## Level 3\n",
    "\n",
    "### Solution: linkedlist.php\n",
    "\n",
    "We have to see again the source page. There is a comment with a messy text. This is saved in level-3.txt\n",
    "\n",
    "The hint says: \"One small letter, surrounded by EXACTLY three big bodyguards on each of its sides\".\n",
    "\n",
    "We have to found the lowercase letters in the messy text sourrounded by 3 consecutive capital letters, for example JLKgOPO (we should get \"o\")."
   ]
  },
  {
   "cell_type": "code",
   "execution_count": 263,
   "metadata": {},
   "outputs": [],
   "source": [
    "# import regex\n",
    "import re "
   ]
  },
  {
   "cell_type": "code",
   "execution_count": 264,
   "metadata": {},
   "outputs": [],
   "source": [
    "text = open('level-3.txt').read()"
   ]
  },
  {
   "cell_type": "code",
   "execution_count": 265,
   "metadata": {},
   "outputs": [
    {
     "name": "stdout",
     "output_type": "stream",
     "text": [
      "linkedlist\n"
     ]
    }
   ],
   "source": [
    "pattern = \"[^A-Z][A-Z]{3}([a-z])[A-Z]{3}[^A-Z]\"\n",
    "letters = re.findall(pattern,text)\n",
    "\n",
    "# join the list\n",
    "print( \"\".join(letters) )"
   ]
  },
  {
   "cell_type": "markdown",
   "metadata": {},
   "source": [
    "Put \"linkedlist\" in the url (and also change .php with .html again) to go to the next level. "
   ]
  },
  {
   "cell_type": "markdown",
   "metadata": {},
   "source": [
    "## Level 4\n",
    "\n",
    "### Solution: peak.html\n",
    "\n",
    "The is a large picture, with a link to a plain webpage saying the message \n",
    "\"and the next nothing is <num>\" where num is a number. If you manually change the number in the current url with the one in the message, you are directed to a new webpage with the same message, but with a different number.\n",
    " \n",
    "The task is extract the number in the message of these webpages and automatically update urls until reach the solution."
   ]
  },
  {
   "cell_type": "code",
   "execution_count": 226,
   "metadata": {},
   "outputs": [],
   "source": [
    "import requests\n",
    "import urllib.request\n",
    "from bs4 import BeautifulSoup\n",
    "\n",
    "import re "
   ]
  },
  {
   "cell_type": "markdown",
   "metadata": {},
   "source": [
    "We get the current url. Then we write the pattern that we should use (regex)."
   ]
  },
  {
   "cell_type": "code",
   "execution_count": 267,
   "metadata": {},
   "outputs": [],
   "source": [
    "url     = \"http://www.pythonchallenge.com/pc/def/linkedlist.php?nothing=12345\"\n",
    "pattern = \"and the next nothing is (\\d+)\"   "
   ]
  },
  {
   "cell_type": "markdown",
   "metadata": {},
   "source": [
    "Next, we define a function that takes in input the pattern and current url. The function recovers the number \n",
    "in the webpage so that to obtain the new url. When there is no match (i.e., no number is found in the pattern) the loop breaks. "
   ]
  },
  {
   "cell_type": "code",
   "execution_count": 266,
   "metadata": {},
   "outputs": [],
   "source": [
    "def nexturl(url, pattern):\n",
    "    while True:   \n",
    "        # get the message from current url\n",
    "        page = requests.get(url)\n",
    "        soup = BeautifulSoup(page.text,'html.parser')\n",
    "        text = soup.get_text()\n",
    "        # print the message\n",
    "        print(text)\n",
    "        # find the number \n",
    "        match = re.search(pattern, soup.get_text()) \n",
    "        if match is not None:\n",
    "            # get the next url: \n",
    "            # - get the url up to the \"=\" of the current url \n",
    "            # - add \"=\" \n",
    "            # - add the the number in current url that will direct to the next url \n",
    "            url = re.split(\"=\", url)[0] + \"=\" + text.split()[-1]\n",
    "        else:\n",
    "            break\n",
    "        #endif \n",
    "#endfunction"
   ]
  },
  {
   "cell_type": "code",
   "execution_count": 250,
   "metadata": {},
   "outputs": [
    {
     "name": "stdout",
     "output_type": "stream",
     "text": [
      "and the next nothing is 44827\n",
      "and the next nothing is 45439\n",
      "Your hands are getting tired and the next nothing is 94485\n",
      "and the next nothing is 72198\n",
      "and the next nothing is 80992\n",
      "and the next nothing is 8880\n",
      "and the next nothing is 40961\n",
      "and the next nothing is 58765\n",
      "and the next nothing is 46561\n",
      "and the next nothing is 13418\n",
      "and the next nothing is 41954\n",
      "and the next nothing is 46782\n",
      "and the next nothing is 92730\n",
      "and the next nothing is 89229\n",
      "and the next nothing is 25646\n",
      "and the next nothing is 74288\n",
      "and the next nothing is 25945\n",
      "and the next nothing is 39876\n",
      "and the next nothing is 8498\n",
      "and the next nothing is 34684\n",
      "and the next nothing is 62316\n",
      "and the next nothing is 71331\n",
      "and the next nothing is 59717\n",
      "and the next nothing is 76893\n",
      "and the next nothing is 44091\n",
      "and the next nothing is 73241\n",
      "and the next nothing is 19242\n",
      "and the next nothing is 17476\n",
      "and the next nothing is 39566\n",
      "and the next nothing is 81293\n",
      "and the next nothing is 25857\n",
      "and the next nothing is 74343\n",
      "and the next nothing is 39410\n",
      "and the next nothing is 5505\n",
      "and the next nothing is 27104\n",
      "and the next nothing is 54003\n",
      "and the next nothing is 23501\n",
      "and the next nothing is 21110\n",
      "and the next nothing is 88399\n",
      "and the next nothing is 49740\n",
      "and the next nothing is 31552\n",
      "and the next nothing is 39998\n",
      "and the next nothing is 19755\n",
      "and the next nothing is 64624\n",
      "and the next nothing is 37817\n",
      "and the next nothing is 43427\n",
      "and the next nothing is 15115\n",
      "and the next nothing is 44327\n",
      "and the next nothing is 7715\n",
      "and the next nothing is 15248\n",
      "and the next nothing is 61895\n",
      "and the next nothing is 54759\n",
      "and the next nothing is 54270\n",
      "and the next nothing is 51332\n",
      "and the next nothing is 63481\n",
      "and the next nothing is 12362\n",
      "and the next nothing is 94476\n",
      "and the next nothing is 87810\n",
      "and the next nothing is 6027\n",
      "and the next nothing is 47551\n",
      "and the next nothing is 79498\n",
      "and the next nothing is 81226\n",
      "and the next nothing is 4256\n",
      "and the next nothing is 62734\n",
      "and the next nothing is 25666\n",
      "and the next nothing is 14781\n",
      "and the next nothing is 21412\n",
      "and the next nothing is 55205\n",
      "and the next nothing is 65516\n",
      "and the next nothing is 53535\n",
      "and the next nothing is 4437\n",
      "and the next nothing is 43442\n",
      "and the next nothing is 91308\n",
      "and the next nothing is 1312\n",
      "and the next nothing is 36268\n",
      "and the next nothing is 34289\n",
      "and the next nothing is 46384\n",
      "and the next nothing is 18097\n",
      "and the next nothing is 9401\n",
      "and the next nothing is 54249\n",
      "and the next nothing is 29247\n",
      "and the next nothing is 13115\n",
      "and the next nothing is 23053\n",
      "and the next nothing is 3875\n",
      "and the next nothing is 16044\n",
      "Yes. Divide by two and keep going.\n"
     ]
    }
   ],
   "source": [
    "# takes a while\n",
    "nexturl(url, pattern)"
   ]
  },
  {
   "cell_type": "markdown",
   "metadata": {},
   "source": [
    "Here, we have to take the last number and divide it by two, i.e. 16044/2. And keep going.\n",
    "\n",
    "That is, we update the initial url with the new number and call the function \"nexturl\" again (the pattern should stay the same)."
   ]
  },
  {
   "cell_type": "code",
   "execution_count": 253,
   "metadata": {},
   "outputs": [],
   "source": [
    "url = \"http://www.pythonchallenge.com/pc/def/linkedlist.php?nothing=\" + str( int(16044/2) )"
   ]
  },
  {
   "cell_type": "code",
   "execution_count": 254,
   "metadata": {},
   "outputs": [
    {
     "name": "stdout",
     "output_type": "stream",
     "text": [
      "and the next nothing is 25357\n",
      "and the next nothing is 89879\n",
      "and the next nothing is 80119\n",
      "and the next nothing is 50290\n",
      "and the next nothing is 9297\n",
      "and the next nothing is 30571\n",
      "and the next nothing is 7414\n",
      "and the next nothing is 30978\n",
      "and the next nothing is 16408\n",
      "and the next nothing is 80109\n",
      "and the next nothing is 55736\n",
      "and the next nothing is 15357\n",
      "and the next nothing is 80887\n",
      "and the next nothing is 35014\n",
      "and the next nothing is 16523\n",
      "and the next nothing is 50286\n",
      "and the next nothing is 34813\n",
      "and the next nothing is 77562\n",
      "and the next nothing is 54746\n",
      "and the next nothing is 22680\n",
      "and the next nothing is 19705\n",
      "and the next nothing is 77000\n",
      "and the next nothing is 27634\n",
      "and the next nothing is 21008\n",
      "and the next nothing is 64994\n",
      "and the next nothing is 66109\n",
      "and the next nothing is 37855\n",
      "and the next nothing is 36383\n",
      "and the next nothing is 68548\n",
      "and the next nothing is 96070\n",
      "and the next nothing is 83051\n",
      "and the next nothing is 58026\n",
      "and the next nothing is 44726\n",
      "and the next nothing is 35748\n",
      "and the next nothing is 61287\n",
      "and the next nothing is 559\n",
      "and the next nothing is 81318\n",
      "and the next nothing is 50443\n",
      "and the next nothing is 1570\n",
      "and the next nothing is 75244\n",
      "and the next nothing is 56265\n",
      "and the next nothing is 17694\n",
      "and the next nothing is 48033\n",
      "and the next nothing is 56523\n",
      "and the next nothing is 51253\n",
      "and the next nothing is 85750\n",
      "and the next nothing is 42760\n",
      "and the next nothing is 11877\n",
      "and the next nothing is 15962\n",
      "and the next nothing is 75494\n",
      "and the next nothing is 87283\n",
      "and the next nothing is 40396\n",
      "and the next nothing is 49574\n",
      "and the next nothing is 82682\n",
      "There maybe misleading numbers in the \n",
      "text. One example is 82683. Look only for the next nothing and the next nothing is 63579\n",
      "and the next nothing is 37278\n",
      "and the next nothing is 53548\n",
      "and the next nothing is 66081\n",
      "and the next nothing is 67753\n",
      "and the next nothing is 56337\n",
      "and the next nothing is 3356\n",
      "and the next nothing is 94525\n",
      "and the next nothing is 89574\n",
      "and the next nothing is 4413\n",
      "and the next nothing is 82294\n",
      "and the next nothing is 56060\n",
      "and the next nothing is 95493\n",
      "and the next nothing is 80865\n",
      "and the next nothing is 66242\n",
      "and the next nothing is 16065\n",
      "and the next nothing is 62145\n",
      "and the next nothing is 23147\n",
      "and the next nothing is 83763\n",
      "and the next nothing is 62381\n",
      "and the next nothing is 76841\n",
      "and the next nothing is 91706\n",
      "and the next nothing is 9268\n",
      "and the next nothing is 64814\n",
      "and the next nothing is 80809\n",
      "and the next nothing is 14039\n",
      "and the next nothing is 73355\n",
      "and the next nothing is 81905\n",
      "and the next nothing is 36402\n",
      "and the next nothing is 27221\n",
      "and the next nothing is 79607\n",
      "and the next nothing is 91763\n",
      "and the next nothing is 11631\n",
      "and the next nothing is 76396\n",
      "and the next nothing is 69905\n",
      "and the next nothing is 11073\n",
      "and the next nothing is 71281\n",
      "and the next nothing is 54345\n",
      "and the next nothing is 19047\n",
      "and the next nothing is 34376\n",
      "and the next nothing is 3193\n",
      "and the next nothing is 74258\n",
      "and the next nothing is 62712\n",
      "and the next nothing is 1823\n",
      "and the next nothing is 21232\n",
      "and the next nothing is 87890\n",
      "and the next nothing is 21545\n",
      "and the next nothing is 37136\n",
      "and the next nothing is 23060\n",
      "and the next nothing is 5385\n",
      "and the next nothing is 4620\n",
      "and the next nothing is 39111\n",
      "and the next nothing is 35914\n",
      "and the next nothing is 60310\n",
      "and the next nothing is 19178\n",
      "and the next nothing is 44671\n",
      "and the next nothing is 45736\n",
      "and the next nothing is 9216\n",
      "and the next nothing is 12585\n",
      "and the next nothing is 11302\n",
      "and the next nothing is 33096\n",
      "and the next nothing is 13967\n",
      "and the next nothing is 57004\n",
      "and the next nothing is 64196\n",
      "and the next nothing is 73929\n",
      "and the next nothing is 24800\n",
      "and the next nothing is 25081\n",
      "and the next nothing is 90033\n",
      "and the next nothing is 45919\n",
      "and the next nothing is 54827\n",
      "and the next nothing is 73950\n",
      "and the next nothing is 56978\n",
      "and the next nothing is 8133\n",
      "and the next nothing is 61900\n",
      "and the next nothing is 47769\n",
      "and the next nothing is 631\n",
      "and the next nothing is 2284\n",
      "and the next nothing is 60074\n",
      "and the next nothing is 35959\n",
      "and the next nothing is 57158\n",
      "and the next nothing is 90990\n",
      "and the next nothing is 27935\n",
      "and the next nothing is 99927\n",
      "and the next nothing is 41785\n",
      "and the next nothing is 32660\n",
      "and the next nothing is 4328\n",
      "and the next nothing is 42067\n",
      "and the next nothing is 8743\n",
      "and the next nothing is 38613\n",
      "and the next nothing is 21100\n",
      "and the next nothing is 77864\n",
      "and the next nothing is 6523\n",
      "and the next nothing is 6927\n",
      "and the next nothing is 82930\n",
      "and the next nothing is 35846\n",
      "and the next nothing is 31785\n",
      "and the next nothing is 41846\n",
      "and the next nothing is 72387\n",
      "and the next nothing is 59334\n",
      "and the next nothing is 65520\n",
      "and the next nothing is 93781\n",
      "and the next nothing is 55840\n",
      "and the next nothing is 80842\n",
      "and the next nothing is 59022\n",
      "and the next nothing is 23298\n",
      "and the next nothing is 27709\n",
      "and the next nothing is 96791\n",
      "and the next nothing is 75635\n",
      "and the next nothing is 52899\n",
      "and the next nothing is 66831\n",
      "peak.html\n"
     ]
    }
   ],
   "source": [
    "nexturl(url, pattern)"
   ]
  },
  {
   "cell_type": "markdown",
   "metadata": {},
   "source": [
    "Update the url with peak.html and go to next level."
   ]
  },
  {
   "cell_type": "markdown",
   "metadata": {},
   "source": [
    "## Level 5\n",
    "### Solution: channel\n",
    "\n",
    "There is a picture with a hill. The message says \"pronunce it\". We see again at the web source and we find an hidden comment \"peak hell sounds familiar ?\" inside a peakhell tag with source to \"banner.p\". \n",
    "\n",
    "This is the following url:\n",
    "http://www.pythonchallenge.com/pc/def/banner.p. \n",
    "It contains a series of characters.\n",
    "We copy and paste the content in level-5.txt.\n",
    "\n",
    "The hint \"pronunce it\" suggests to pronunce \"peak hell\" which sounds like *pickle* that is a python's pickle module for serialise objects so that they can be saved to a file and loaded back."
   ]
  },
  {
   "cell_type": "code",
   "execution_count": 320,
   "metadata": {},
   "outputs": [],
   "source": [
    "import pickle"
   ]
  },
  {
   "cell_type": "code",
   "execution_count": 321,
   "metadata": {},
   "outputs": [],
   "source": [
    "# open the pickled text\n",
    "pickledtext = open('level-5.txt','rb')\n",
    "\n",
    "# assign the pickled data (unpickled)\n",
    "pickleddata = pickle.load(pickledtext)\n",
    "\n",
    "# close file\n",
    "pickledtext.close()"
   ]
  },
  {
   "cell_type": "code",
   "execution_count": 322,
   "metadata": {},
   "outputs": [
    {
     "name": "stdout",
     "output_type": "stream",
     "text": [
      "[(' ', 95)]\n",
      "[(' ', 14), ('#', 5), (' ', 70), ('#', 5), (' ', 1)]\n",
      "[(' ', 15), ('#', 4), (' ', 71), ('#', 4), (' ', 1)]\n",
      "[(' ', 15), ('#', 4), (' ', 71), ('#', 4), (' ', 1)]\n"
     ]
    }
   ],
   "source": [
    "# pickleddata is a list of tuple\n",
    "for i in range(4):\n",
    "    print( pickleddata[i] )"
   ]
  },
  {
   "cell_type": "markdown",
   "metadata": {},
   "source": [
    "and this looks like 95 times blank space, then (probably on new line) 14 times a blank space, 5 times a \"#\" \n",
    "and so on...\n",
    "\n",
    "We have to print this appropriately."
   ]
  },
  {
   "cell_type": "code",
   "execution_count": 323,
   "metadata": {},
   "outputs": [
    {
     "name": "stdout",
     "output_type": "stream",
     "text": [
      "                                                                                               \n",
      "              #####                                                                      ##### \n",
      "               ####                                                                       #### \n",
      "               ####                                                                       #### \n",
      "               ####                                                                       #### \n",
      "               ####                                                                       #### \n",
      "               ####                                                                       #### \n",
      "               ####                                                                       #### \n",
      "               ####                                                                       #### \n",
      "      ###      ####   ###         ###       #####   ###    #####   ###          ###       #### \n",
      "   ###   ##    #### #######     ##  ###      #### #######   #### #######     ###  ###     #### \n",
      "  ###     ###  #####    ####   ###   ####    #####    ####  #####    ####   ###     ###   #### \n",
      " ###           ####     ####   ###    ###    ####     ####  ####     ####  ###      ####  #### \n",
      " ###           ####     ####          ###    ####     ####  ####     ####  ###       ###  #### \n",
      "####           ####     ####     ##   ###    ####     ####  ####     #### ####       ###  #### \n",
      "####           ####     ####   ##########    ####     ####  ####     #### ##############  #### \n",
      "####           ####     ####  ###    ####    ####     ####  ####     #### ####            #### \n",
      "####           ####     #### ####     ###    ####     ####  ####     #### ####            #### \n",
      " ###           ####     #### ####     ###    ####     ####  ####     ####  ###            #### \n",
      "  ###      ##  ####     ####  ###    ####    ####     ####  ####     ####   ###      ##   #### \n",
      "   ###    ##   ####     ####   ###########   ####     ####  ####     ####    ###    ##    #### \n",
      "      ###     ######    #####    ##    #### ######    ###########    #####      ###      ######\n",
      "                                                                                               \n"
     ]
    }
   ],
   "source": [
    "for i in range( len(pickleddata) ):\n",
    "    currentstr = ''\n",
    "    for j in range( len(pickleddata[i]) ):\n",
    "        currentstr = currentstr + (pickleddata[i][j][0] * pickleddata[i][j][1])\n",
    "    #endfor\n",
    "    print('{}'.format(currentstr))\n",
    "#endfor"
   ]
  },
  {
   "cell_type": "markdown",
   "metadata": {},
   "source": [
    "Done."
   ]
  }
 ],
 "metadata": {
  "kernelspec": {
   "display_name": "Python 3",
   "language": "python",
   "name": "python3"
  },
  "language_info": {
   "codemirror_mode": {
    "name": "ipython",
    "version": 3
   },
   "file_extension": ".py",
   "mimetype": "text/x-python",
   "name": "python",
   "nbconvert_exporter": "python",
   "pygments_lexer": "ipython3",
   "version": "3.7.1"
  }
 },
 "nbformat": 4,
 "nbformat_minor": 2
}
