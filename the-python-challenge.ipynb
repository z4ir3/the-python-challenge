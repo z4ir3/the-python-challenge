{
 "cells": [
  {
   "cell_type": "markdown",
   "metadata": {},
   "source": [
    "# The Python Challenge\n",
    "Homepage: http://www.pythonchallenge.com/"
   ]
  },
  {
   "cell_type": "code",
   "execution_count": 43,
   "metadata": {},
   "outputs": [],
   "source": [
    "import numpy as np "
   ]
  },
  {
   "cell_type": "markdown",
   "metadata": {},
   "source": [
    "## Level 0 \n",
    "### Solution: 274877906944"
   ]
  },
  {
   "cell_type": "markdown",
   "metadata": {},
   "source": [
    "Just write 2^38 = 274877906944 in place of the 0 in current url."
   ]
  },
  {
   "cell_type": "markdown",
   "metadata": {},
   "source": [
    "## Level 1\n",
    "\n",
    "### Solution: ocr\n",
    "\n",
    "We are given the following text:"
   ]
  },
  {
   "cell_type": "code",
   "execution_count": 3,
   "metadata": {},
   "outputs": [
    {
     "data": {
      "text/plain": [
       "\"g fmnc wms bgblr rpylqjyrc gr zw fylb. rfyrq ufyr amknsrcpq ypc dmp. bmgle gr gl zw fylb gq glcddgagclr ylb rfyr'q ufw rfgq rcvr gq qm jmle. sqgle qrpgle.kyicrpylq() gq pcamkkclbcb. lmu ynnjw ml rfc spj.\""
      ]
     },
     "execution_count": 3,
     "metadata": {},
     "output_type": "execute_result"
    }
   ],
   "source": [
    "text = \"g fmnc wms bgblr rpylqjyrc gr zw fylb. rfyrq ufyr amknsrcpq ypc dmp. bmgle gr gl zw fylb gq glcddgagclr ylb rfyr'q ufw rfgq rcvr gq qm jmle. sqgle qrpgle.kyicrpylq() gq pcamkkclbcb. lmu ynnjw ml rfc spj.\"\n",
    "text"
   ]
  },
  {
   "cell_type": "markdown",
   "metadata": {},
   "source": [
    "and the solution is that every letter in the text has to be mapped to the letter in the to next positions in the alphabet, for example: g->i, k->m and so on."
   ]
  },
  {
   "cell_type": "code",
   "execution_count": 4,
   "metadata": {},
   "outputs": [],
   "source": [
    "# alphabet (with repeated \"a\" and \"b\" at the end)\n",
    "alphabet = ['a','b','c','d','e','f','g','h','i','j','k','l','m','n','o','p','q','r','s','t','u','v','w','x','y','z','a','b']\n",
    "\n",
    "# make a list\n",
    "text = list( text )"
   ]
  },
  {
   "cell_type": "code",
   "execution_count": 5,
   "metadata": {},
   "outputs": [],
   "source": [
    "def decrypt(text):\n",
    "    for i in range(len(text)):\n",
    "        # skip characters which do not have to be mapped\n",
    "        if text[i] in alphabet:\n",
    "            # find the position of current character text[i] in the alphabet \n",
    "            pos_c_in_alphabet = [ pos for pos, char in enumerate(alphabet[:26]) if char == text[i] ]\n",
    "            # cast the position to int and add 2 \n",
    "            new_decrypr_pos = int( \"\".join(map(str, pos_c_in_alphabet)) ) + 2\n",
    "            # assign the new letter from the alphabet to the original one in text[i]\n",
    "            text[i] = alphabet[new_decrypr_pos]\n",
    "        #endif\n",
    "    #endfor\n",
    "    # join in a single string the decrypted text\n",
    "    text = \"\".join(text)\n",
    "    return text\n",
    "#endfunction"
   ]
  },
  {
   "cell_type": "code",
   "execution_count": 6,
   "metadata": {},
   "outputs": [],
   "source": [
    "# decrypt text\n",
    "newtext = decrypt(text)"
   ]
  },
  {
   "cell_type": "code",
   "execution_count": 7,
   "metadata": {},
   "outputs": [
    {
     "name": "stdout",
     "output_type": "stream",
     "text": [
      "i hope you didnt translate it by hand. thats what computers are for. doing it in by hand is inefficient and that's why this text is so long. using string.maketrans() is recommended. now apply on the url.\n"
     ]
    }
   ],
   "source": [
    "print( newtext )"
   ]
  },
  {
   "cell_type": "markdown",
   "metadata": {},
   "source": [
    "I didn't know about string.maketrans()$\\dots$ Anyway, it says to now decrypt the current url:"
   ]
  },
  {
   "cell_type": "code",
   "execution_count": 8,
   "metadata": {},
   "outputs": [
    {
     "name": "stdout",
     "output_type": "stream",
     "text": [
      "Go here: jvvr://yyy.ravjqpejcnngpig.eqo/re/fgh/ocr.jvon\n"
     ]
    }
   ],
   "source": [
    "url = \"http://www.pythonchallenge.com/pc/def/map.html\"\n",
    "url = list( url )\n",
    "newurl = decrypt(url)\n",
    "print('Go here:', newurl)"
   ]
  },
  {
   "cell_type": "markdown",
   "metadata": {},
   "source": [
    "You realise that the above url does not exits and that the solution is to write \"ocr\" in current url. This will send to the next level."
   ]
  },
  {
   "cell_type": "markdown",
   "metadata": {},
   "source": [
    "## Level 2\n",
    "\n",
    "### Solution: equality\n",
    "We have to see to the source page. There will be a comment saying \"find rare characters in the mess below\", where the mess below is this:"
   ]
  },
  {
   "cell_type": "code",
   "execution_count": 9,
   "metadata": {},
   "outputs": [],
   "source": [
    "mess = open('txt/level-2.txt').read()"
   ]
  },
  {
   "cell_type": "markdown",
   "metadata": {},
   "source": [
    "The messy text has been copied and pasted from the web source to a txt file.\n",
    "\n",
    "The solution requires trasforming the mess text into list, counting the elements, and look for the ones that \n",
    "appear with less frequency."
   ]
  },
  {
   "cell_type": "code",
   "execution_count": 10,
   "metadata": {},
   "outputs": [],
   "source": [
    "listmess = list(mess)"
   ]
  },
  {
   "cell_type": "code",
   "execution_count": 11,
   "metadata": {},
   "outputs": [
    {
     "name": "stdout",
     "output_type": "stream",
     "text": [
      "Elements in the list: \n",
      "dict_keys(['%', '$', '@', '_', '^', '#', ')', '&', '!', '+', ']', '*', '}', '[', '(', '{', '\\n', 'e', 'q', 'u', 'a', 'l', 'i', 't', 'y'])\n",
      "\n",
      "Frequency: \n",
      "dict_values([6104, 6046, 6157, 6112, 6030, 6115, 6186, 6043, 6079, 6066, 6152, 6034, 6105, 6108, 6154, 6046, 1219, 1, 1, 1, 1, 1, 1, 1, 1])\n"
     ]
    }
   ],
   "source": [
    "from collections import Counter\n",
    "\n",
    "print('Elements in the list: ')\n",
    "print( Counter(listmess).keys()   ) # returns unique elements in the list \n",
    "print('\\nFrequency: ')\n",
    "print( Counter(listmess).values() ) # counts the elements' frequency"
   ]
  },
  {
   "cell_type": "markdown",
   "metadata": {},
   "source": [
    "We see the letters 'e', 'q', 'u', 'a', 'l', 'i', 't', 'y' appear only once, respectively. \n",
    "Then, \"equality.html\" will send to the next level."
   ]
  },
  {
   "cell_type": "markdown",
   "metadata": {},
   "source": [
    "## Level 3\n",
    "\n",
    "### Solution: linkedlist.php\n",
    "\n",
    "We have to see again the source page. There is a comment with a messy text. This is saved in level-3.txt\n",
    "\n",
    "The hint says: \"One small letter, surrounded by EXACTLY three big bodyguards on each of its sides\".\n",
    "\n",
    "We have to found the lowercase letters in the messy text sourrounded by 3 consecutive capital letters, for example JLKgOPO (we should get \"o\")."
   ]
  },
  {
   "cell_type": "code",
   "execution_count": 12,
   "metadata": {},
   "outputs": [],
   "source": [
    "# import regex\n",
    "import re "
   ]
  },
  {
   "cell_type": "code",
   "execution_count": 13,
   "metadata": {},
   "outputs": [],
   "source": [
    "text = open('txt/level-3.txt').read()"
   ]
  },
  {
   "cell_type": "code",
   "execution_count": 14,
   "metadata": {},
   "outputs": [
    {
     "name": "stdout",
     "output_type": "stream",
     "text": [
      "linkedlist\n"
     ]
    }
   ],
   "source": [
    "pattern = \"[^A-Z][A-Z]{3}([a-z])[A-Z]{3}[^A-Z]\"\n",
    "letters = re.findall(pattern,text)\n",
    "\n",
    "# join the list\n",
    "print( \"\".join(letters) )"
   ]
  },
  {
   "cell_type": "markdown",
   "metadata": {},
   "source": [
    "Put \"linkedlist\" in the url (and also change .php with .html again) to go to the next level. "
   ]
  },
  {
   "cell_type": "markdown",
   "metadata": {},
   "source": [
    "## Level 4\n",
    "\n",
    "### Solution: peak.html\n",
    "\n",
    "The is a large picture, with a link to a plain webpage saying the message \n",
    "\"and the next nothing is <num>\" where num is a number. If you manually change the number in the current url with the one in the message, you are directed to a new webpage with the same message, but with a different number.\n",
    " \n",
    "The task is extract the number in the message of these webpages and automatically update urls until reach the solution."
   ]
  },
  {
   "cell_type": "code",
   "execution_count": 15,
   "metadata": {},
   "outputs": [],
   "source": [
    "import requests\n",
    "import urllib.request\n",
    "from bs4 import BeautifulSoup\n",
    "\n",
    "import re "
   ]
  },
  {
   "cell_type": "markdown",
   "metadata": {},
   "source": [
    "We get the current url. Then we write the pattern that we should use (regex)."
   ]
  },
  {
   "cell_type": "code",
   "execution_count": 16,
   "metadata": {},
   "outputs": [],
   "source": [
    "url     = \"http://www.pythonchallenge.com/pc/def/linkedlist.php?nothing=12345\"\n",
    "pattern = \"and the next nothing is (\\d+)\"   "
   ]
  },
  {
   "cell_type": "markdown",
   "metadata": {},
   "source": [
    "Next, we define a function that takes in input the pattern and current url. The function recovers the number \n",
    "in the webpage so that to obtain the new url. When there is no match (i.e., no number is found in the pattern) the loop breaks. "
   ]
  },
  {
   "cell_type": "code",
   "execution_count": 17,
   "metadata": {},
   "outputs": [],
   "source": [
    "def nexturl(url, pattern):\n",
    "    while True:   \n",
    "        # get the message from current url\n",
    "        page = requests.get(url)\n",
    "        soup = BeautifulSoup(page.text,'html.parser')\n",
    "        text = soup.get_text()\n",
    "        # print the message\n",
    "        print(text)\n",
    "        # find the number \n",
    "        match = re.search(pattern, soup.get_text()) \n",
    "        if match is not None:\n",
    "            # get the next url: \n",
    "            # - get the url up to the \"=\" of the current url \n",
    "            # - add \"=\" \n",
    "            # - add the the number in current url that will direct to the next url \n",
    "            url = re.split(\"=\", url)[0] + \"=\" + text.split()[-1]\n",
    "        else:\n",
    "            break\n",
    "        #endif \n",
    "#endfunction"
   ]
  },
  {
   "cell_type": "code",
   "execution_count": 250,
   "metadata": {},
   "outputs": [
    {
     "name": "stdout",
     "output_type": "stream",
     "text": [
      "and the next nothing is 44827\n",
      "and the next nothing is 45439\n",
      "Your hands are getting tired and the next nothing is 94485\n",
      "and the next nothing is 72198\n",
      "and the next nothing is 80992\n",
      "and the next nothing is 8880\n",
      "and the next nothing is 40961\n",
      "and the next nothing is 58765\n",
      "and the next nothing is 46561\n",
      "and the next nothing is 13418\n",
      "and the next nothing is 41954\n",
      "and the next nothing is 46782\n",
      "and the next nothing is 92730\n",
      "and the next nothing is 89229\n",
      "and the next nothing is 25646\n",
      "and the next nothing is 74288\n",
      "and the next nothing is 25945\n",
      "and the next nothing is 39876\n",
      "and the next nothing is 8498\n",
      "and the next nothing is 34684\n",
      "and the next nothing is 62316\n",
      "and the next nothing is 71331\n",
      "and the next nothing is 59717\n",
      "and the next nothing is 76893\n",
      "and the next nothing is 44091\n",
      "and the next nothing is 73241\n",
      "and the next nothing is 19242\n",
      "and the next nothing is 17476\n",
      "and the next nothing is 39566\n",
      "and the next nothing is 81293\n",
      "and the next nothing is 25857\n",
      "and the next nothing is 74343\n",
      "and the next nothing is 39410\n",
      "and the next nothing is 5505\n",
      "and the next nothing is 27104\n",
      "and the next nothing is 54003\n",
      "and the next nothing is 23501\n",
      "and the next nothing is 21110\n",
      "and the next nothing is 88399\n",
      "and the next nothing is 49740\n",
      "and the next nothing is 31552\n",
      "and the next nothing is 39998\n",
      "and the next nothing is 19755\n",
      "and the next nothing is 64624\n",
      "and the next nothing is 37817\n",
      "and the next nothing is 43427\n",
      "and the next nothing is 15115\n",
      "and the next nothing is 44327\n",
      "and the next nothing is 7715\n",
      "and the next nothing is 15248\n",
      "and the next nothing is 61895\n",
      "and the next nothing is 54759\n",
      "and the next nothing is 54270\n",
      "and the next nothing is 51332\n",
      "and the next nothing is 63481\n",
      "and the next nothing is 12362\n",
      "and the next nothing is 94476\n",
      "and the next nothing is 87810\n",
      "and the next nothing is 6027\n",
      "and the next nothing is 47551\n",
      "and the next nothing is 79498\n",
      "and the next nothing is 81226\n",
      "and the next nothing is 4256\n",
      "and the next nothing is 62734\n",
      "and the next nothing is 25666\n",
      "and the next nothing is 14781\n",
      "and the next nothing is 21412\n",
      "and the next nothing is 55205\n",
      "and the next nothing is 65516\n",
      "and the next nothing is 53535\n",
      "and the next nothing is 4437\n",
      "and the next nothing is 43442\n",
      "and the next nothing is 91308\n",
      "and the next nothing is 1312\n",
      "and the next nothing is 36268\n",
      "and the next nothing is 34289\n",
      "and the next nothing is 46384\n",
      "and the next nothing is 18097\n",
      "and the next nothing is 9401\n",
      "and the next nothing is 54249\n",
      "and the next nothing is 29247\n",
      "and the next nothing is 13115\n",
      "and the next nothing is 23053\n",
      "and the next nothing is 3875\n",
      "and the next nothing is 16044\n",
      "Yes. Divide by two and keep going.\n"
     ]
    }
   ],
   "source": [
    "# takes a while\n",
    "nexturl(url, pattern)"
   ]
  },
  {
   "cell_type": "markdown",
   "metadata": {},
   "source": [
    "Here, we have to take the last number and divide it by two, i.e. 16044/2. And keep going.\n",
    "\n",
    "That is, we update the initial url with the new number and call the function \"nexturl\" again (the pattern should stay the same)."
   ]
  },
  {
   "cell_type": "code",
   "execution_count": 18,
   "metadata": {},
   "outputs": [],
   "source": [
    "url = \"http://www.pythonchallenge.com/pc/def/linkedlist.php?nothing=\" + str( int(16044/2) )"
   ]
  },
  {
   "cell_type": "code",
   "execution_count": 254,
   "metadata": {},
   "outputs": [
    {
     "name": "stdout",
     "output_type": "stream",
     "text": [
      "and the next nothing is 25357\n",
      "and the next nothing is 89879\n",
      "and the next nothing is 80119\n",
      "and the next nothing is 50290\n",
      "and the next nothing is 9297\n",
      "and the next nothing is 30571\n",
      "and the next nothing is 7414\n",
      "and the next nothing is 30978\n",
      "and the next nothing is 16408\n",
      "and the next nothing is 80109\n",
      "and the next nothing is 55736\n",
      "and the next nothing is 15357\n",
      "and the next nothing is 80887\n",
      "and the next nothing is 35014\n",
      "and the next nothing is 16523\n",
      "and the next nothing is 50286\n",
      "and the next nothing is 34813\n",
      "and the next nothing is 77562\n",
      "and the next nothing is 54746\n",
      "and the next nothing is 22680\n",
      "and the next nothing is 19705\n",
      "and the next nothing is 77000\n",
      "and the next nothing is 27634\n",
      "and the next nothing is 21008\n",
      "and the next nothing is 64994\n",
      "and the next nothing is 66109\n",
      "and the next nothing is 37855\n",
      "and the next nothing is 36383\n",
      "and the next nothing is 68548\n",
      "and the next nothing is 96070\n",
      "and the next nothing is 83051\n",
      "and the next nothing is 58026\n",
      "and the next nothing is 44726\n",
      "and the next nothing is 35748\n",
      "and the next nothing is 61287\n",
      "and the next nothing is 559\n",
      "and the next nothing is 81318\n",
      "and the next nothing is 50443\n",
      "and the next nothing is 1570\n",
      "and the next nothing is 75244\n",
      "and the next nothing is 56265\n",
      "and the next nothing is 17694\n",
      "and the next nothing is 48033\n",
      "and the next nothing is 56523\n",
      "and the next nothing is 51253\n",
      "and the next nothing is 85750\n",
      "and the next nothing is 42760\n",
      "and the next nothing is 11877\n",
      "and the next nothing is 15962\n",
      "and the next nothing is 75494\n",
      "and the next nothing is 87283\n",
      "and the next nothing is 40396\n",
      "and the next nothing is 49574\n",
      "and the next nothing is 82682\n",
      "There maybe misleading numbers in the \n",
      "text. One example is 82683. Look only for the next nothing and the next nothing is 63579\n",
      "and the next nothing is 37278\n",
      "and the next nothing is 53548\n",
      "and the next nothing is 66081\n",
      "and the next nothing is 67753\n",
      "and the next nothing is 56337\n",
      "and the next nothing is 3356\n",
      "and the next nothing is 94525\n",
      "and the next nothing is 89574\n",
      "and the next nothing is 4413\n",
      "and the next nothing is 82294\n",
      "and the next nothing is 56060\n",
      "and the next nothing is 95493\n",
      "and the next nothing is 80865\n",
      "and the next nothing is 66242\n",
      "and the next nothing is 16065\n",
      "and the next nothing is 62145\n",
      "and the next nothing is 23147\n",
      "and the next nothing is 83763\n",
      "and the next nothing is 62381\n",
      "and the next nothing is 76841\n",
      "and the next nothing is 91706\n",
      "and the next nothing is 9268\n",
      "and the next nothing is 64814\n",
      "and the next nothing is 80809\n",
      "and the next nothing is 14039\n",
      "and the next nothing is 73355\n",
      "and the next nothing is 81905\n",
      "and the next nothing is 36402\n",
      "and the next nothing is 27221\n",
      "and the next nothing is 79607\n",
      "and the next nothing is 91763\n",
      "and the next nothing is 11631\n",
      "and the next nothing is 76396\n",
      "and the next nothing is 69905\n",
      "and the next nothing is 11073\n",
      "and the next nothing is 71281\n",
      "and the next nothing is 54345\n",
      "and the next nothing is 19047\n",
      "and the next nothing is 34376\n",
      "and the next nothing is 3193\n",
      "and the next nothing is 74258\n",
      "and the next nothing is 62712\n",
      "and the next nothing is 1823\n",
      "and the next nothing is 21232\n",
      "and the next nothing is 87890\n",
      "and the next nothing is 21545\n",
      "and the next nothing is 37136\n",
      "and the next nothing is 23060\n",
      "and the next nothing is 5385\n",
      "and the next nothing is 4620\n",
      "and the next nothing is 39111\n",
      "and the next nothing is 35914\n",
      "and the next nothing is 60310\n",
      "and the next nothing is 19178\n",
      "and the next nothing is 44671\n",
      "and the next nothing is 45736\n",
      "and the next nothing is 9216\n",
      "and the next nothing is 12585\n",
      "and the next nothing is 11302\n",
      "and the next nothing is 33096\n",
      "and the next nothing is 13967\n",
      "and the next nothing is 57004\n",
      "and the next nothing is 64196\n",
      "and the next nothing is 73929\n",
      "and the next nothing is 24800\n",
      "and the next nothing is 25081\n",
      "and the next nothing is 90033\n",
      "and the next nothing is 45919\n",
      "and the next nothing is 54827\n",
      "and the next nothing is 73950\n",
      "and the next nothing is 56978\n",
      "and the next nothing is 8133\n",
      "and the next nothing is 61900\n",
      "and the next nothing is 47769\n",
      "and the next nothing is 631\n",
      "and the next nothing is 2284\n",
      "and the next nothing is 60074\n",
      "and the next nothing is 35959\n",
      "and the next nothing is 57158\n",
      "and the next nothing is 90990\n",
      "and the next nothing is 27935\n",
      "and the next nothing is 99927\n",
      "and the next nothing is 41785\n",
      "and the next nothing is 32660\n",
      "and the next nothing is 4328\n",
      "and the next nothing is 42067\n",
      "and the next nothing is 8743\n",
      "and the next nothing is 38613\n",
      "and the next nothing is 21100\n",
      "and the next nothing is 77864\n",
      "and the next nothing is 6523\n",
      "and the next nothing is 6927\n",
      "and the next nothing is 82930\n",
      "and the next nothing is 35846\n",
      "and the next nothing is 31785\n",
      "and the next nothing is 41846\n",
      "and the next nothing is 72387\n",
      "and the next nothing is 59334\n",
      "and the next nothing is 65520\n",
      "and the next nothing is 93781\n",
      "and the next nothing is 55840\n",
      "and the next nothing is 80842\n",
      "and the next nothing is 59022\n",
      "and the next nothing is 23298\n",
      "and the next nothing is 27709\n",
      "and the next nothing is 96791\n",
      "and the next nothing is 75635\n",
      "and the next nothing is 52899\n",
      "and the next nothing is 66831\n",
      "peak.html\n"
     ]
    }
   ],
   "source": [
    "nexturl(url, pattern)"
   ]
  },
  {
   "cell_type": "markdown",
   "metadata": {},
   "source": [
    "Update the url with peak.html and go to next level."
   ]
  },
  {
   "cell_type": "markdown",
   "metadata": {},
   "source": [
    "## Level 5\n",
    "### Solution: channel\n",
    "\n",
    "There is a picture with a hill. The message says \"pronunce it\". We see again at the web source and we find an hidden comment \"peak hell sounds familiar ?\" inside a peakhell tag with source to \"banner.p\". \n",
    "\n",
    "This is the following url:\n",
    "http://www.pythonchallenge.com/pc/def/banner.p. \n",
    "It contains a series of characters.\n",
    "We copy and paste the content in level-5.txt.\n",
    "\n",
    "The hint \"pronunce it\" suggests to pronunce \"peak hell\" which sounds like *pickle* that is a python's pickle module for serialise objects so that they can be saved to a file and loaded back."
   ]
  },
  {
   "cell_type": "code",
   "execution_count": 19,
   "metadata": {},
   "outputs": [],
   "source": [
    "import pickle"
   ]
  },
  {
   "cell_type": "code",
   "execution_count": 20,
   "metadata": {},
   "outputs": [],
   "source": [
    "# open the pickled text\n",
    "pickledtext = open('txt/level-5.txt','rb')\n",
    "\n",
    "# assign the pickled data (unpickled)\n",
    "pickleddata = pickle.load(pickledtext)\n",
    "\n",
    "# close file\n",
    "pickledtext.close()"
   ]
  },
  {
   "cell_type": "code",
   "execution_count": 21,
   "metadata": {},
   "outputs": [
    {
     "name": "stdout",
     "output_type": "stream",
     "text": [
      "[(' ', 95)]\n",
      "[(' ', 14), ('#', 5), (' ', 70), ('#', 5), (' ', 1)]\n",
      "[(' ', 15), ('#', 4), (' ', 71), ('#', 4), (' ', 1)]\n",
      "[(' ', 15), ('#', 4), (' ', 71), ('#', 4), (' ', 1)]\n"
     ]
    }
   ],
   "source": [
    "# pickleddata is a list of tuple\n",
    "for i in range(4):\n",
    "    print( pickleddata[i] )"
   ]
  },
  {
   "cell_type": "markdown",
   "metadata": {},
   "source": [
    "and this looks like 95 times blank space, then (probably on new line) 14 times a blank space, 5 times a \"#\" \n",
    "and so on...\n",
    "\n",
    "We have to print this appropriately."
   ]
  },
  {
   "cell_type": "code",
   "execution_count": 22,
   "metadata": {},
   "outputs": [
    {
     "name": "stdout",
     "output_type": "stream",
     "text": [
      "                                                                                               \n",
      "              #####                                                                      ##### \n",
      "               ####                                                                       #### \n",
      "               ####                                                                       #### \n",
      "               ####                                                                       #### \n",
      "               ####                                                                       #### \n",
      "               ####                                                                       #### \n",
      "               ####                                                                       #### \n",
      "               ####                                                                       #### \n",
      "      ###      ####   ###         ###       #####   ###    #####   ###          ###       #### \n",
      "   ###   ##    #### #######     ##  ###      #### #######   #### #######     ###  ###     #### \n",
      "  ###     ###  #####    ####   ###   ####    #####    ####  #####    ####   ###     ###   #### \n",
      " ###           ####     ####   ###    ###    ####     ####  ####     ####  ###      ####  #### \n",
      " ###           ####     ####          ###    ####     ####  ####     ####  ###       ###  #### \n",
      "####           ####     ####     ##   ###    ####     ####  ####     #### ####       ###  #### \n",
      "####           ####     ####   ##########    ####     ####  ####     #### ##############  #### \n",
      "####           ####     ####  ###    ####    ####     ####  ####     #### ####            #### \n",
      "####           ####     #### ####     ###    ####     ####  ####     #### ####            #### \n",
      " ###           ####     #### ####     ###    ####     ####  ####     ####  ###            #### \n",
      "  ###      ##  ####     ####  ###    ####    ####     ####  ####     ####   ###      ##   #### \n",
      "   ###    ##   ####     ####   ###########   ####     ####  ####     ####    ###    ##    #### \n",
      "      ###     ######    #####    ##    #### ######    ###########    #####      ###      ######\n",
      "                                                                                               \n"
     ]
    }
   ],
   "source": [
    "for i in range( len(pickleddata) ):\n",
    "    currentstr = ''\n",
    "    for j in range( len(pickleddata[i]) ):\n",
    "        currentstr = currentstr + (pickleddata[i][j][0] * pickleddata[i][j][1])\n",
    "    #endfor\n",
    "    print('{}'.format(currentstr))\n",
    "#endfor"
   ]
  },
  {
   "cell_type": "markdown",
   "metadata": {},
   "source": [
    "Done. Go to the next level by typing \"channel.html\" in the url."
   ]
  },
  {
   "cell_type": "markdown",
   "metadata": {},
   "source": [
    "## Level 6\n",
    "\n",
    "### Solution: oxygen\n",
    "\n",
    "There is a picture with a zip and a paypal button which clearly we don't want to push (it redirects to a apge to make a paypal donation). If we look at the source page, we see an initial comment \"<-- zip -->\". \n",
    "\n",
    "Basically, if in the url, we change the \".html\" with \".zip\" we download a zipped file called \"channel.zip\". \n",
    "Inside there are a lot of .txt files and a readme.txt. \n",
    "\n",
    "The latter says:"
   ]
  },
  {
   "cell_type": "code",
   "execution_count": 23,
   "metadata": {},
   "outputs": [
    {
     "name": "stdout",
     "output_type": "stream",
     "text": [
      "welcome to my zipped list.\n",
      "\n",
      "hint1: start from 90052\n",
      "hint2: answer is inside the zip\n",
      "\n"
     ]
    }
   ],
   "source": [
    "readme = open(\"files/channel/readme.txt\").read()\n",
    "print( readme )"
   ]
  },
  {
   "cell_type": "markdown",
   "metadata": {},
   "source": [
    "It seems that we have to look inside the 90052.txt file."
   ]
  },
  {
   "cell_type": "code",
   "execution_count": 24,
   "metadata": {},
   "outputs": [
    {
     "data": {
      "text/plain": [
       "'Next nothing is 94191'"
      ]
     },
     "execution_count": 24,
     "metadata": {},
     "output_type": "execute_result"
    }
   ],
   "source": [
    "txtfile = open(\"files/channel/90052.txt\").read()\n",
    "txtfile"
   ]
  },
  {
   "cell_type": "code",
   "execution_count": 25,
   "metadata": {},
   "outputs": [
    {
     "data": {
      "text/plain": [
       "'Next nothing is 85503'"
      ]
     },
     "execution_count": 25,
     "metadata": {},
     "output_type": "execute_result"
    }
   ],
   "source": [
    "txtfile = open(\"files/channel/94191.txt\").read()\n",
    "txtfile"
   ]
  },
  {
   "cell_type": "markdown",
   "metadata": {},
   "source": [
    "and so on... This is similar to previous level. Let us make the process automatic."
   ]
  },
  {
   "cell_type": "code",
   "execution_count": 26,
   "metadata": {},
   "outputs": [],
   "source": [
    "import re"
   ]
  },
  {
   "cell_type": "code",
   "execution_count": 28,
   "metadata": {},
   "outputs": [],
   "source": [
    "pattern     = \"nothing is (\\d+)\"\n",
    "nextnothing = \"90052\""
   ]
  },
  {
   "cell_type": "code",
   "execution_count": 29,
   "metadata": {},
   "outputs": [
    {
     "name": "stdout",
     "output_type": "stream",
     "text": [
      "Next nothing is 94191\n",
      "Next nothing is 85503\n",
      "Next nothing is 70877\n",
      "Next nothing is 15409\n",
      "Next nothing is 60838\n",
      "Next nothing is 80009\n",
      "Next nothing is 21347\n",
      "Next nothing is 24164\n",
      "Next nothing is 13836\n",
      "Next nothing is 80123\n",
      "Next nothing is 92453\n",
      "Next nothing is 69556\n",
      "Next nothing is 31491\n",
      "Next nothing is 13371\n",
      "Next nothing is 88143\n",
      "Next nothing is 82593\n",
      "Next nothing is 30645\n",
      "Next nothing is 88985\n",
      "Next nothing is 27190\n",
      "Next nothing is 24448\n",
      "Next nothing is 37468\n",
      "Next nothing is 49892\n",
      "Next nothing is 54714\n",
      "Next nothing is 75161\n",
      "Next nothing is 893\n",
      "Next nothing is 57882\n",
      "Next nothing is 40033\n",
      "Next nothing is 29521\n",
      "Next nothing is 5289\n",
      "Next nothing is 4701\n",
      "Next nothing is 32742\n",
      "Next nothing is 18751\n",
      "Next nothing is 68586\n",
      "Next nothing is 53984\n",
      "Next nothing is 52184\n",
      "Next nothing is 43807\n",
      "Next nothing is 56300\n",
      "Next nothing is 97649\n",
      "Next nothing is 88244\n",
      "Next nothing is 91669\n",
      "Next nothing is 88394\n",
      "Next nothing is 77575\n",
      "Next nothing is 70208\n",
      "Next nothing is 78211\n",
      "Next nothing is 84854\n",
      "Next nothing is 87594\n",
      "Next nothing is 26234\n",
      "Next nothing is 63181\n",
      "Next nothing is 68559\n",
      "Next nothing is 37695\n",
      "Next nothing is 64397\n",
      "Next nothing is 55356\n",
      "Next nothing is 8258\n",
      "Next nothing is 77074\n",
      "Next nothing is 28389\n",
      "Next nothing is 39983\n",
      "Next nothing is 40210\n",
      "Next nothing is 69972\n",
      "Next nothing is 48089\n",
      "Next nothing is 34764\n",
      "Next nothing is 46945\n",
      "Next nothing is 97812\n",
      "Next nothing is 95662\n",
      "Next nothing is 55220\n",
      "Next nothing is 86793\n",
      "Next nothing is 69785\n",
      "Next nothing is 85827\n",
      "Next nothing is 75722\n",
      "Next nothing is 37259\n",
      "Next nothing is 57622\n",
      "Next nothing is 57566\n",
      "Next nothing is 98181\n",
      "Next nothing is 57831\n",
      "Next nothing is 68947\n",
      "Next nothing is 29834\n",
      "Next nothing is 67060\n",
      "Next nothing is 48669\n",
      "Next nothing is 12761\n",
      "Next nothing is 47882\n",
      "Next nothing is 98339\n",
      "Next nothing is 9058\n",
      "Next nothing is 14745\n",
      "Next nothing is 60138\n",
      "Next nothing is 47842\n",
      "Next nothing is 71178\n",
      "Next nothing is 1091\n",
      "Next nothing is 52205\n",
      "Next nothing is 98709\n",
      "Next nothing is 4992\n",
      "Next nothing is 97673\n",
      "Next nothing is 92736\n",
      "Next nothing is 98119\n",
      "Next nothing is 97515\n",
      "Next nothing is 98939\n",
      "Next nothing is 36656\n",
      "Next nothing is 85839\n",
      "Next nothing is 33746\n",
      "Next nothing is 64122\n",
      "Next nothing is 41968\n",
      "Next nothing is 56617\n",
      "Next nothing is 83808\n",
      "Next nothing is 68613\n",
      "Next nothing is 99714\n",
      "Next nothing is 67196\n",
      "Next nothing is 11992\n",
      "Next nothing is 38192\n",
      "Next nothing is 61837\n",
      "Next nothing is 29034\n",
      "Next nothing is 77480\n",
      "Next nothing is 12737\n",
      "Next nothing is 39310\n",
      "Next nothing is 89307\n",
      "Next nothing is 36624\n",
      "Next nothing is 81412\n",
      "Next nothing is 51450\n",
      "Next nothing is 21690\n",
      "Next nothing is 46726\n",
      "Next nothing is 74576\n",
      "Next nothing is 57901\n",
      "Next nothing is 92043\n",
      "Next nothing is 78130\n",
      "Next nothing is 23647\n",
      "Next nothing is 39258\n",
      "Next nothing is 76629\n",
      "Next nothing is 48614\n",
      "Next nothing is 74736\n",
      "Next nothing is 53027\n",
      "Next nothing is 3713\n",
      "Next nothing is 30339\n",
      "Next nothing is 42197\n",
      "Next nothing is 12539\n",
      "Next nothing is 98095\n",
      "Next nothing is 176\n",
      "Next nothing is 64956\n",
      "Next nothing is 78307\n",
      "Next nothing is 35035\n",
      "Next nothing is 36894\n",
      "Next nothing is 76017\n",
      "Next nothing is 67036\n",
      "Next nothing is 33179\n",
      "Next nothing is 64085\n",
      "Next nothing is 90506\n",
      "Next nothing is 94079\n",
      "Next nothing is 76441\n",
      "Next nothing is 16146\n",
      "Next nothing is 78399\n",
      "Next nothing is 98044\n",
      "Next nothing is 64045\n",
      "Next nothing is 69444\n",
      "Next nothing is 78862\n",
      "Next nothing is 51492\n",
      "Next nothing is 52349\n",
      "Next nothing is 86079\n",
      "Next nothing is 8001\n",
      "Next nothing is 68750\n",
      "Next nothing is 65764\n",
      "Next nothing is 11419\n",
      "Next nothing is 96644\n",
      "Next nothing is 63154\n",
      "Next nothing is 70397\n",
      "Next nothing is 91046\n",
      "Next nothing is 61274\n",
      "Next nothing is 50678\n",
      "Next nothing is 94118\n",
      "Next nothing is 86774\n",
      "Next nothing is 47673\n",
      "Next nothing is 90792\n",
      "Next nothing is 95791\n",
      "Next nothing is 72442\n",
      "Next nothing is 57730\n",
      "Next nothing is 79566\n",
      "Next nothing is 66349\n",
      "Next nothing is 40521\n",
      "Next nothing is 59808\n",
      "Next nothing is 14628\n",
      "Next nothing is 39820\n",
      "Next nothing is 100\n",
      "Next nothing is 84844\n",
      "Next nothing is 39890\n",
      "Next nothing is 12930\n",
      "Next nothing is 97979\n",
      "Next nothing is 16870\n",
      "Next nothing is 3928\n",
      "Next nothing is 71245\n",
      "Next nothing is 8289\n",
      "Next nothing is 9118\n",
      "Next nothing is 81768\n",
      "Next nothing is 68242\n",
      "Next nothing is 65768\n",
      "Next nothing is 94363\n",
      "Next nothing is 34013\n",
      "Next nothing is 85632\n",
      "Next nothing is 82706\n",
      "Next nothing is 97089\n",
      "Next nothing is 67999\n",
      "Next nothing is 53542\n",
      "Next nothing is 68609\n",
      "Next nothing is 91136\n",
      "Next nothing is 95660\n",
      "Next nothing is 30395\n",
      "Next nothing is 19822\n",
      "Next nothing is 55325\n",
      "Next nothing is 33630\n",
      "Next nothing is 65277\n",
      "Next nothing is 34563\n",
      "Next nothing is 44890\n",
      "Next nothing is 54001\n",
      "Next nothing is 75838\n",
      "Next nothing is 83931\n",
      "Next nothing is 68010\n",
      "Next nothing is 62369\n",
      "Next nothing is 30318\n",
      "Next nothing is 79479\n",
      "Next nothing is 31117\n",
      "Next nothing is 43267\n",
      "Next nothing is 9623\n",
      "Next nothing is 46206\n",
      "Next nothing is 56408\n",
      "Next nothing is 91586\n",
      "Next nothing is 60171\n",
      "Next nothing is 21279\n",
      "Next nothing is 74921\n",
      "Next nothing is 91523\n",
      "Next nothing is 82519\n",
      "Next nothing is 40257\n",
      "Next nothing is 76116\n",
      "Next nothing is 7556\n",
      "Next nothing is 99775\n",
      "Next nothing is 74219\n",
      "Next nothing is 82223\n",
      "Next nothing is 35247\n",
      "Next nothing is 52390\n",
      "Next nothing is 89160\n",
      "Next nothing is 16586\n",
      "Next nothing is 24065\n",
      "Next nothing is 69983\n",
      "Next nothing is 55163\n",
      "Next nothing is 73389\n",
      "Next nothing is 91965\n",
      "Next nothing is 98094\n",
      "Next nothing is 11616\n",
      "Next nothing is 3651\n",
      "Next nothing is 56582\n",
      "Next nothing is 70915\n",
      "Next nothing is 16041\n",
      "Next nothing is 22628\n",
      "Next nothing is 21140\n",
      "Next nothing is 24595\n",
      "Next nothing is 2015\n",
      "Next nothing is 1063\n",
      "Next nothing is 81810\n",
      "Next nothing is 16744\n",
      "Next nothing is 63875\n",
      "Next nothing is 55449\n",
      "Next nothing is 93756\n",
      "Next nothing is 90763\n",
      "Next nothing is 92265\n",
      "Next nothing is 12362\n",
      "Next nothing is 31981\n",
      "Next nothing is 33177\n",
      "Next nothing is 64602\n",
      "Next nothing is 95085\n",
      "Next nothing is 22509\n",
      "Next nothing is 16043\n",
      "Next nothing is 75290\n",
      "Next nothing is 50374\n",
      "Next nothing is 67572\n",
      "Next nothing is 37055\n",
      "Next nothing is 77186\n",
      "Next nothing is 32544\n",
      "Next nothing is 1878\n",
      "Next nothing is 65126\n",
      "Next nothing is 72092\n",
      "Next nothing is 17712\n",
      "Next nothing is 81039\n",
      "Next nothing is 87476\n",
      "Next nothing is 18375\n",
      "Next nothing is 29494\n",
      "Next nothing is 46210\n",
      "Next nothing is 12351\n",
      "Next nothing is 11352\n",
      "Next nothing is 16030\n",
      "Next nothing is 3390\n",
      "Next nothing is 603\n",
      "Next nothing is 11827\n",
      "Next nothing is 1123\n",
      "Next nothing is 3924\n",
      "Next nothing is 66402\n",
      "Next nothing is 36832\n",
      "Next nothing is 76131\n",
      "Next nothing is 51106\n",
      "Next nothing is 24644\n",
      "Next nothing is 66351\n",
      "Next nothing is 34515\n",
      "Next nothing is 3572\n",
      "Next nothing is 66200\n",
      "Next nothing is 63804\n",
      "Next nothing is 47248\n",
      "Next nothing is 4931\n",
      "Next nothing is 41894\n",
      "Next nothing is 88223\n",
      "Next nothing is 76945\n",
      "Next nothing is 18520\n",
      "Next nothing is 1440\n",
      "Next nothing is 39405\n",
      "Next nothing is 72571\n",
      "Next nothing is 4506\n",
      "Next nothing is 38221\n",
      "Next nothing is 82852\n",
      "Next nothing is 62826\n",
      "Next nothing is 24567\n",
      "Next nothing is 4682\n",
      "Next nothing is 88024\n",
      "Next nothing is 33791\n",
      "Next nothing is 29446\n",
      "Next nothing is 67233\n",
      "Next nothing is 17152\n",
      "Next nothing is 730\n",
      "Next nothing is 28928\n",
      "Next nothing is 88004\n",
      "Next nothing is 65514\n",
      "Next nothing is 88301\n",
      "Next nothing is 74357\n",
      "Next nothing is 32837\n",
      "Next nothing is 59049\n",
      "Next nothing is 91793\n",
      "Next nothing is 43083\n",
      "Next nothing is 97338\n",
      "Next nothing is 22601\n",
      "Next nothing is 27898\n",
      "Next nothing is 56149\n",
      "Next nothing is 95637\n",
      "Next nothing is 39483\n",
      "Next nothing is 94070\n",
      "Next nothing is 92752\n",
      "Next nothing is 95205\n",
      "Next nothing is 73840\n",
      "Next nothing is 38673\n",
      "Next nothing is 78668\n",
      "Next nothing is 72782\n",
      "Next nothing is 50761\n",
      "Next nothing is 68023\n",
      "Next nothing is 27107\n",
      "Next nothing is 61416\n",
      "Next nothing is 18525\n",
      "Next nothing is 26202\n",
      "Next nothing is 34548\n",
      "Next nothing is 48464\n",
      "Next nothing is 18987\n",
      "Next nothing is 2539\n",
      "Next nothing is 16362\n",
      "Next nothing is 97400\n",
      "Next nothing is 35559\n",
      "Next nothing is 49787\n",
      "Next nothing is 27738\n",
      "Next nothing is 58043\n",
      "Next nothing is 65166\n",
      "Next nothing is 63997\n",
      "Next nothing is 20717\n",
      "Next nothing is 24530\n",
      "Next nothing is 21174\n",
      "Next nothing is 68030\n",
      "Next nothing is 55286\n",
      "Next nothing is 17904\n",
      "Next nothing is 86545\n",
      "Next nothing is 95763\n",
      "Next nothing is 18922\n",
      "Next nothing is 27319\n",
      "Next nothing is 61270\n",
      "Next nothing is 1064\n",
      "Next nothing is 8424\n",
      "Next nothing is 59672\n",
      "Next nothing is 51066\n",
      "Next nothing is 44848\n",
      "Next nothing is 22633\n",
      "Next nothing is 25923\n",
      "Next nothing is 58240\n",
      "Next nothing is 51783\n",
      "Next nothing is 33131\n",
      "Next nothing is 75249\n",
      "Next nothing is 49394\n",
      "Next nothing is 87771\n",
      "Next nothing is 404\n",
      "Next nothing is 93575\n",
      "Next nothing is 82483\n",
      "Next nothing is 78096\n",
      "Next nothing is 28374\n",
      "Next nothing is 58341\n",
      "Next nothing is 75198\n",
      "Next nothing is 64511\n",
      "Next nothing is 44038\n",
      "Next nothing is 25136\n",
      "Next nothing is 88199\n",
      "Next nothing is 46518\n",
      "Next nothing is 71787\n",
      "Next nothing is 68974\n",
      "Next nothing is 75307\n",
      "Next nothing is 12176\n",
      "Next nothing is 62030\n",
      "Next nothing is 49856\n",
      "Next nothing is 64466\n",
      "Next nothing is 668\n"
     ]
    },
    {
     "name": "stdout",
     "output_type": "stream",
     "text": [
      "Next nothing is 57709\n",
      "Next nothing is 52400\n",
      "Next nothing is 94833\n",
      "Next nothing is 65415\n",
      "Next nothing is 80057\n",
      "Next nothing is 73422\n",
      "Next nothing is 86874\n",
      "Next nothing is 94159\n",
      "Next nothing is 16466\n",
      "Next nothing is 6549\n",
      "Next nothing is 92525\n",
      "Next nothing is 40627\n",
      "Next nothing is 27531\n",
      "Next nothing is 88177\n",
      "Next nothing is 4465\n",
      "Next nothing is 99189\n",
      "Next nothing is 47856\n",
      "Next nothing is 83694\n",
      "Next nothing is 54379\n",
      "Next nothing is 47454\n",
      "Next nothing is 87096\n",
      "Next nothing is 3469\n",
      "Next nothing is 99254\n",
      "Next nothing is 4630\n",
      "Next nothing is 75878\n",
      "Next nothing is 21776\n",
      "Next nothing is 92781\n",
      "Next nothing is 23060\n",
      "Next nothing is 89587\n",
      "Next nothing is 18346\n",
      "Next nothing is 47867\n",
      "Next nothing is 41004\n",
      "Next nothing is 13430\n",
      "Next nothing is 381\n",
      "Next nothing is 8755\n",
      "Next nothing is 58832\n",
      "Next nothing is 92450\n",
      "Next nothing is 64821\n",
      "Next nothing is 84642\n",
      "Next nothing is 2105\n",
      "Next nothing is 17305\n",
      "Next nothing is 60154\n",
      "Next nothing is 77752\n",
      "Next nothing is 39994\n",
      "Next nothing is 30257\n",
      "Next nothing is 60804\n",
      "Next nothing is 8060\n",
      "Next nothing is 83168\n",
      "Next nothing is 81281\n",
      "Next nothing is 29319\n",
      "Next nothing is 84291\n",
      "Next nothing is 2134\n",
      "Next nothing is 12889\n",
      "Next nothing is 70671\n",
      "Next nothing is 53206\n",
      "Next nothing is 3864\n",
      "Next nothing is 71232\n",
      "Next nothing is 35128\n",
      "Next nothing is 45383\n",
      "Next nothing is 43864\n",
      "Next nothing is 83422\n",
      "Next nothing is 45657\n",
      "Next nothing is 90923\n",
      "Next nothing is 93059\n",
      "Next nothing is 82431\n",
      "Next nothing is 32308\n",
      "Next nothing is 94968\n",
      "Next nothing is 19185\n",
      "Next nothing is 55937\n",
      "Next nothing is 53897\n",
      "Next nothing is 62026\n",
      "Next nothing is 63032\n",
      "Next nothing is 81488\n",
      "Next nothing is 8601\n",
      "Next nothing is 73718\n",
      "Next nothing is 22577\n",
      "Next nothing is 99460\n",
      "Next nothing is 58858\n",
      "Next nothing is 65384\n",
      "Next nothing is 13622\n",
      "Next nothing is 14212\n",
      "Next nothing is 90949\n",
      "Next nothing is 19069\n",
      "Next nothing is 48930\n",
      "Next nothing is 48909\n",
      "Next nothing is 55205\n",
      "Next nothing is 51696\n",
      "Next nothing is 11560\n",
      "Next nothing is 98848\n",
      "Next nothing is 82785\n",
      "Next nothing is 85828\n",
      "Next nothing is 74671\n",
      "Next nothing is 47269\n",
      "Next nothing is 87933\n",
      "Next nothing is 83248\n",
      "Next nothing is 9002\n",
      "Next nothing is 55287\n",
      "Next nothing is 81455\n",
      "Next nothing is 47329\n",
      "Next nothing is 16738\n",
      "Next nothing is 68790\n",
      "Next nothing is 31232\n",
      "Next nothing is 98034\n",
      "Next nothing is 45243\n",
      "Next nothing is 43597\n",
      "Next nothing is 98246\n",
      "Next nothing is 36542\n",
      "Next nothing is 54606\n",
      "Next nothing is 9301\n",
      "Next nothing is 87282\n",
      "Next nothing is 48551\n",
      "Next nothing is 91285\n",
      "Next nothing is 11090\n",
      "Next nothing is 71454\n",
      "Next nothing is 65829\n",
      "Next nothing is 44481\n",
      "Next nothing is 23672\n",
      "Next nothing is 34339\n",
      "Next nothing is 90980\n",
      "Next nothing is 78901\n",
      "Next nothing is 3423\n",
      "Next nothing is 37522\n",
      "Next nothing is 19932\n",
      "Next nothing is 92578\n",
      "Next nothing is 12931\n",
      "Next nothing is 12677\n",
      "Next nothing is 819\n",
      "Next nothing is 6125\n",
      "Next nothing is 53248\n",
      "Next nothing is 14469\n",
      "Next nothing is 64440\n",
      "Next nothing is 35616\n",
      "Next nothing is 67375\n",
      "Next nothing is 49214\n",
      "Next nothing is 66203\n",
      "Next nothing is 80968\n",
      "Next nothing is 79396\n",
      "Next nothing is 37781\n",
      "Next nothing is 9715\n",
      "Next nothing is 24581\n",
      "Next nothing is 63414\n",
      "Next nothing is 63949\n",
      "Next nothing is 46595\n",
      "Next nothing is 9384\n",
      "Next nothing is 64974\n",
      "Next nothing is 94277\n",
      "Next nothing is 27064\n",
      "Next nothing is 55621\n",
      "Next nothing is 69222\n",
      "Next nothing is 70168\n",
      "Next nothing is 63528\n",
      "Next nothing is 80304\n",
      "Next nothing is 94510\n",
      "Next nothing is 40068\n",
      "Next nothing is 86847\n",
      "Next nothing is 4861\n",
      "Next nothing is 91570\n",
      "Next nothing is 18108\n",
      "Next nothing is 92797\n",
      "Next nothing is 10653\n",
      "Next nothing is 58973\n",
      "Next nothing is 65708\n",
      "Next nothing is 85683\n",
      "Next nothing is 58791\n",
      "Next nothing is 84134\n",
      "Next nothing is 16715\n",
      "Next nothing is 4130\n",
      "Next nothing is 8333\n",
      "Next nothing is 2658\n",
      "Next nothing is 29888\n",
      "Next nothing is 92509\n",
      "Next nothing is 24885\n",
      "Next nothing is 85346\n",
      "Next nothing is 88754\n",
      "Next nothing is 87449\n",
      "Next nothing is 80326\n",
      "Next nothing is 41417\n",
      "Next nothing is 62569\n",
      "Next nothing is 34147\n",
      "Next nothing is 37638\n",
      "Next nothing is 28177\n",
      "Next nothing is 59599\n",
      "Next nothing is 98155\n",
      "Next nothing is 1035\n",
      "Next nothing is 88241\n",
      "Next nothing is 12774\n",
      "Next nothing is 88944\n",
      "Next nothing is 19873\n",
      "Next nothing is 8308\n",
      "Next nothing is 46992\n",
      "Next nothing is 83493\n",
      "Next nothing is 49337\n",
      "Next nothing is 10134\n",
      "Next nothing is 89272\n",
      "Next nothing is 21051\n",
      "Next nothing is 10771\n",
      "Next nothing is 80834\n",
      "Next nothing is 89357\n",
      "Next nothing is 14114\n",
      "Next nothing is 31302\n",
      "Next nothing is 51107\n",
      "Next nothing is 23249\n",
      "Next nothing is 91555\n",
      "Next nothing is 20144\n",
      "Next nothing is 57011\n",
      "Next nothing is 61058\n",
      "Next nothing is 59316\n",
      "Next nothing is 109\n",
      "Next nothing is 22645\n",
      "Next nothing is 83445\n",
      "Next nothing is 66015\n",
      "Next nothing is 82896\n",
      "Next nothing is 33160\n",
      "Next nothing is 80234\n",
      "Next nothing is 69853\n",
      "Next nothing is 17729\n",
      "Next nothing is 20261\n",
      "Next nothing is 95032\n",
      "Next nothing is 19899\n",
      "Next nothing is 43848\n",
      "Next nothing is 53819\n",
      "Next nothing is 1946\n",
      "Next nothing is 75651\n",
      "Next nothing is 62387\n",
      "Next nothing is 70384\n",
      "Next nothing is 68507\n",
      "Next nothing is 88256\n",
      "Next nothing is 29789\n",
      "Next nothing is 83043\n",
      "Next nothing is 14979\n",
      "Next nothing is 97422\n",
      "Next nothing is 96333\n",
      "Next nothing is 665\n",
      "Next nothing is 83779\n",
      "Next nothing is 15008\n",
      "Next nothing is 11812\n",
      "Next nothing is 32086\n",
      "Next nothing is 19311\n",
      "Next nothing is 38267\n",
      "Next nothing is 7440\n",
      "Next nothing is 8587\n",
      "Next nothing is 84193\n",
      "Next nothing is 19413\n",
      "Next nothing is 47199\n",
      "Next nothing is 98913\n",
      "Next nothing is 79128\n",
      "Next nothing is 1447\n",
      "Next nothing is 19812\n",
      "Next nothing is 7520\n",
      "Next nothing is 58170\n",
      "Next nothing is 78767\n",
      "Next nothing is 36504\n",
      "Next nothing is 12155\n",
      "Next nothing is 53725\n",
      "Next nothing is 15724\n",
      "Next nothing is 31280\n",
      "Next nothing is 531\n",
      "Next nothing is 21899\n",
      "Next nothing is 21132\n",
      "Next nothing is 45275\n",
      "Next nothing is 14983\n",
      "Next nothing is 9207\n",
      "Next nothing is 82137\n",
      "Next nothing is 13076\n",
      "Next nothing is 32752\n",
      "Next nothing is 94091\n",
      "Next nothing is 91316\n",
      "Next nothing is 17593\n",
      "Next nothing is 86692\n",
      "Next nothing is 83916\n",
      "Next nothing is 84429\n",
      "Next nothing is 6123\n",
      "Next nothing is 52149\n",
      "Next nothing is 35368\n",
      "Next nothing is 85722\n",
      "Next nothing is 84034\n",
      "Next nothing is 71297\n",
      "Next nothing is 226\n",
      "Next nothing is 20433\n",
      "Next nothing is 83398\n",
      "Next nothing is 5442\n",
      "Next nothing is 81622\n",
      "Next nothing is 93237\n",
      "Next nothing is 76689\n",
      "Next nothing is 67773\n",
      "Next nothing is 16764\n",
      "Next nothing is 12187\n",
      "Next nothing is 45084\n",
      "Next nothing is 23959\n",
      "Next nothing is 83235\n",
      "Next nothing is 38733\n",
      "Next nothing is 55868\n",
      "Next nothing is 29\n",
      "Next nothing is 83831\n",
      "Next nothing is 80100\n",
      "Next nothing is 14723\n",
      "Next nothing is 60832\n",
      "Next nothing is 72946\n",
      "Next nothing is 37493\n",
      "Next nothing is 27258\n",
      "Next nothing is 67542\n",
      "Next nothing is 28426\n",
      "Next nothing is 35520\n",
      "Next nothing is 19478\n",
      "Next nothing is 53315\n",
      "Next nothing is 89835\n",
      "Next nothing is 45636\n",
      "Next nothing is 84411\n",
      "Next nothing is 44013\n",
      "Next nothing is 67751\n",
      "Next nothing is 94119\n",
      "Next nothing is 15872\n",
      "Next nothing is 97486\n",
      "Next nothing is 4530\n",
      "Next nothing is 2285\n",
      "Next nothing is 48179\n",
      "Next nothing is 36594\n",
      "Next nothing is 52069\n",
      "Next nothing is 44214\n",
      "Next nothing is 50187\n",
      "Next nothing is 63191\n",
      "Next nothing is 96123\n",
      "Next nothing is 37905\n",
      "Next nothing is 35302\n",
      "Next nothing is 26074\n",
      "Next nothing is 24510\n",
      "Next nothing is 77136\n",
      "Next nothing is 34296\n",
      "Next nothing is 29704\n",
      "Next nothing is 22944\n",
      "Next nothing is 10945\n",
      "Next nothing is 73256\n",
      "Next nothing is 40940\n",
      "Next nothing is 2718\n",
      "Next nothing is 94666\n",
      "Next nothing is 53811\n",
      "Next nothing is 75159\n",
      "Next nothing is 14802\n",
      "Next nothing is 29858\n",
      "Next nothing is 79484\n",
      "Next nothing is 55887\n",
      "Next nothing is 8798\n",
      "Next nothing is 89519\n",
      "Next nothing is 60659\n",
      "Next nothing is 53544\n",
      "Next nothing is 8514\n",
      "Next nothing is 97430\n",
      "Next nothing is 1228\n",
      "Next nothing is 16133\n",
      "Next nothing is 19944\n",
      "Next nothing is 25547\n",
      "Next nothing is 76840\n",
      "Next nothing is 57327\n",
      "Next nothing is 96467\n",
      "Next nothing is 97937\n",
      "Next nothing is 22345\n",
      "Next nothing is 75533\n",
      "Next nothing is 80499\n",
      "Next nothing is 39170\n",
      "Next nothing is 25194\n",
      "Next nothing is 78713\n",
      "Next nothing is 7331\n",
      "Next nothing is 92642\n",
      "Next nothing is 45567\n",
      "Next nothing is 58155\n",
      "Next nothing is 4918\n",
      "Next nothing is 92414\n",
      "Next nothing is 42478\n",
      "Next nothing is 57589\n",
      "Next nothing is 46276\n",
      "Next nothing is 28529\n",
      "Next nothing is 36871\n",
      "Next nothing is 44875\n",
      "Next nothing is 66783\n",
      "Next nothing is 1043\n"
     ]
    },
    {
     "name": "stdout",
     "output_type": "stream",
     "text": [
      "Next nothing is 78311\n",
      "Next nothing is 65698\n",
      "Next nothing is 95457\n",
      "Next nothing is 28935\n",
      "Next nothing is 58156\n",
      "Next nothing is 12445\n",
      "Next nothing is 21019\n",
      "Next nothing is 81654\n",
      "Next nothing is 82814\n",
      "Next nothing is 75481\n",
      "Next nothing is 41055\n",
      "Next nothing is 55067\n",
      "Next nothing is 49768\n",
      "Next nothing is 7422\n",
      "Next nothing is 30983\n",
      "Next nothing is 81931\n",
      "Next nothing is 45122\n",
      "Next nothing is 75101\n",
      "Next nothing is 71773\n",
      "Next nothing is 52323\n",
      "Next nothing is 41386\n",
      "Next nothing is 36729\n",
      "Next nothing is 24027\n",
      "Next nothing is 82430\n",
      "Next nothing is 53824\n",
      "Next nothing is 75518\n",
      "Next nothing is 38146\n",
      "Next nothing is 27401\n",
      "Next nothing is 1321\n",
      "Next nothing is 20200\n",
      "Next nothing is 30934\n",
      "Next nothing is 43923\n",
      "Next nothing is 9472\n",
      "Next nothing is 87617\n",
      "Next nothing is 7973\n",
      "Next nothing is 40413\n",
      "Next nothing is 34242\n",
      "Next nothing is 51833\n",
      "Next nothing is 7298\n",
      "Next nothing is 26372\n",
      "Next nothing is 22704\n",
      "Next nothing is 87196\n",
      "Next nothing is 1866\n",
      "Next nothing is 10454\n",
      "Next nothing is 8810\n",
      "Next nothing is 14074\n",
      "Next nothing is 77163\n",
      "Next nothing is 15394\n",
      "Next nothing is 5630\n",
      "Next nothing is 17801\n",
      "Next nothing is 80920\n",
      "Next nothing is 22571\n",
      "Next nothing is 25311\n",
      "Next nothing is 270\n",
      "Next nothing is 2144\n",
      "Next nothing is 63031\n",
      "Next nothing is 82371\n",
      "Next nothing is 94758\n",
      "Next nothing is 38188\n",
      "Next nothing is 34663\n",
      "Next nothing is 69757\n",
      "Next nothing is 37718\n",
      "Next nothing is 55552\n",
      "Next nothing is 81137\n",
      "Next nothing is 27652\n",
      "Next nothing is 87492\n",
      "Next nothing is 25632\n",
      "Next nothing is 95731\n",
      "Next nothing is 53233\n",
      "Next nothing is 69684\n",
      "Next nothing is 75600\n",
      "Next nothing is 84135\n",
      "Next nothing is 72452\n",
      "Next nothing is 73281\n",
      "Next nothing is 45808\n",
      "Next nothing is 934\n",
      "Next nothing is 12130\n",
      "Next nothing is 15750\n",
      "Next nothing is 69210\n",
      "Next nothing is 99905\n",
      "Next nothing is 63643\n",
      "Next nothing is 47850\n",
      "Next nothing is 83564\n",
      "Next nothing is 77241\n",
      "Next nothing is 75978\n",
      "Next nothing is 24255\n",
      "Next nothing is 89197\n",
      "Next nothing is 42934\n",
      "Next nothing is 76920\n",
      "Next nothing is 29994\n",
      "Next nothing is 45675\n",
      "Next nothing is 30076\n",
      "Next nothing is 69280\n",
      "Next nothing is 70557\n",
      "Next nothing is 43708\n",
      "Next nothing is 62628\n",
      "Next nothing is 89095\n",
      "Next nothing is 80504\n",
      "Next nothing is 76887\n",
      "Next nothing is 27720\n",
      "Next nothing is 67628\n",
      "Next nothing is 11080\n",
      "Next nothing is 37351\n",
      "Next nothing is 55940\n",
      "Next nothing is 56000\n",
      "Next nothing is 79866\n",
      "Next nothing is 33203\n",
      "Next nothing is 16228\n",
      "Next nothing is 8716\n",
      "Next nothing is 74862\n",
      "Next nothing is 32459\n",
      "Next nothing is 58183\n",
      "Next nothing is 18633\n",
      "Next nothing is 40377\n",
      "Next nothing is 70141\n",
      "Next nothing is 84619\n",
      "Next nothing is 28850\n",
      "Next nothing is 45925\n",
      "Next nothing is 7057\n",
      "Next nothing is 16792\n",
      "Next nothing is 54610\n",
      "Next nothing is 21249\n",
      "Next nothing is 15667\n",
      "Next nothing is 91038\n",
      "Next nothing is 44221\n",
      "Next nothing is 992\n",
      "Next nothing is 8700\n",
      "Next nothing is 45100\n",
      "Next nothing is 68628\n",
      "Next nothing is 67824\n",
      "Next nothing is 46145\n",
      "Collect the comments.\n",
      "\n",
      "NEXT NOTHING NOT FOUND\n",
      "Last (current) nothing: 46145 (909)\n"
     ]
    }
   ],
   "source": [
    "itr = 1\n",
    "while True:\n",
    "    txtfile = open(\"files/channel/\" + nextnothing + \".txt\").read()\n",
    "    print(txtfile)    \n",
    "    match = re.search(pattern,txtfile)\n",
    "    if match is not None:\n",
    "        nextnothing = match.groups(1)[0]\n",
    "        itr = itr + 1\n",
    "    else:\n",
    "        print('\\nNEXT NOTHING NOT FOUND')\n",
    "        print(\"Last (current) nothing: \" + nextnothing + \" ({})\".format(itr))\n",
    "        break\n",
    "    #endif\n",
    "#endwhile"
   ]
  },
  {
   "cell_type": "markdown",
   "metadata": {},
   "source": [
    "The last .txt file says \"Collect the comments\". \n",
    "\n",
    "The second hint in the readme said that the answer was inside the zip, and we know that a zip file may contain \n",
    "comments. We have to look at them."
   ]
  },
  {
   "cell_type": "code",
   "execution_count": 30,
   "metadata": {},
   "outputs": [],
   "source": [
    "from zipfile import ZipFile "
   ]
  },
  {
   "cell_type": "code",
   "execution_count": 32,
   "metadata": {},
   "outputs": [],
   "source": [
    "zippedfile = \"files/channel.zip\"\n",
    "archive    = ZipFile(zippedfile, 'r')\n",
    "# archive.printdir()   #prints out the content of the zipped file\n",
    "\n",
    "# make a list of \"zipfile.ZipInfo\" \n",
    "infolist = archive.infolist()\n",
    "#infolist "
   ]
  },
  {
   "cell_type": "code",
   "execution_count": 33,
   "metadata": {},
   "outputs": [
    {
     "name": "stdout",
     "output_type": "stream",
     "text": [
      "E Y  *E  Y ON *****  *Y *E\n",
      "*OG  \n",
      "* Y    G E* Y   E* N*  G**G*   ** * * *  * O    X**E *E*    * X *   *   GE Y**OOGX*** ** *   *E **X O E* E  *** *\n",
      " N   * XG E  * NN  G*   XEX** Y XN  *OO O  *G G*OO G*Y**    *Y N Y*  X*\n",
      " *G***  N   N  * \n",
      "  X**Y * E* **YO***N * *** X* E*  ** X\n",
      "O***   X*\n",
      "N * *X\n",
      "  * * *   * *G  ** O  YN X N ***Y   ***  ***X ***E  E **E   *N*G* ** Y E**  ** *   ** O* * **  OG** OO  O***\n",
      " X  Y**  G E  ** E** Y **  X N*YO* O X  X* GN* Y***  X* *O * O G* *O N*** G\n",
      " E *N*YE  **O* E*  * *  ***  * *N*   E*Y\n",
      "  *NY   * E X* O   * *  * YG* NYG  ** O**   O     \n",
      "E  *Y   GY  ** X  ** **  G E** **  *O* * **** * * *  *** *    *O  *EX  *E  OG** **Y* *\n",
      " OO** * *  *    *  ** * * ***N ** * X    *XX  ** E* G  * * X* *EXG*  *  **O  ** * YE    OY *  *E  Y * *  *  *N** Y* *    *G G*  X***N   *    *E**  ** *O*X   *   O **    YX  **E**  * YO *   O     X *X*    *XX  O*  *       \n",
      "  E *****    E *** ** ** GY*G*"
     ]
    }
   ],
   "source": [
    "# print comments with \".comment\" \n",
    "for info in infolist:\n",
    "    # (decode(\"utf-8\") trasforms the comment from byte string to simple string)\n",
    "    print( info.comment.decode() , end='') \n",
    "#endfor"
   ]
  },
  {
   "cell_type": "markdown",
   "metadata": {},
   "source": [
    "This is not useful. Well, the hidden message will appear if we print out the comment by following the order given by the \"next nothings\" in the .txt files. \n",
    "\n",
    "To do this, we make a matrix containing on the first column linear indices and aon the second column the number of the name of each .txt file:"
   ]
  },
  {
   "cell_type": "code",
   "execution_count": 34,
   "metadata": {},
   "outputs": [
    {
     "data": {
      "text/plain": [
       "array([[    0,    29],\n",
       "       [    1,   100],\n",
       "       [    2,   109],\n",
       "       ...,\n",
       "       [  906, 99714],\n",
       "       [  907, 99775],\n",
       "       [  908, 99905]])"
      ]
     },
     "execution_count": 34,
     "metadata": {},
     "output_type": "execute_result"
    }
   ],
   "source": [
    "# we do not have to consider the readme file \n",
    "idx = np.arange(0,len(infolist)-1)\n",
    "\n",
    "nothings = []\n",
    "for info in infolist[:-1]:\n",
    "    nothings.append( int(info.filename[:-4]) )\n",
    "#endfor\n",
    "\n",
    "mat = np.c_[idx, np.array( nothings ) ]\n",
    "mat"
   ]
  },
  {
   "cell_type": "markdown",
   "metadata": {},
   "source": [
    "Finally, let us iterate through the commnets in the order given by the \"next nothings\"."
   ]
  },
  {
   "cell_type": "code",
   "execution_count": 35,
   "metadata": {},
   "outputs": [
    {
     "name": "stdout",
     "output_type": "stream",
     "text": [
      "***************************************************************\n",
      "****************************************************************\n",
      "**                                                            **\n",
      "**   OO    OO    XX      YYYY    GG    GG  EEEEEE NN      NN  **\n",
      "**   OO    OO  XXXXXX   YYYYYY   GG   GG   EEEEEE  NN    NN   **\n",
      "**   OO    OO XXX  XXX YYY   YY  GG GG     EE       NN  NN    **\n",
      "**   OOOOOOOO XX    XX YY        GGG       EEEEE     NNNN     **\n",
      "**   OOOOOOOO XX    XX YY        GGG       EEEEE      NN      **\n",
      "**   OO    OO XXX  XXX YYY   YY  GG GG     EE         NN      **\n",
      "**   OO    OO  XXXXXX   YYYYYY   GG   GG   EEEEEE     NN      **\n",
      "**   OO    OO    XX      YYYY    GG    GG  EEEEEE     NN      **\n",
      "**                                                            **\n",
      "****************************************************************\n",
      " **************************************************************\n"
     ]
    }
   ],
   "source": [
    "# reassign the first next nothing\n",
    "nextnothing = \"90052\"\n",
    "\n",
    "while True:\n",
    "    # get the text in current file\n",
    "    txtfile = open(\"files/channel/\" + nextnothing + \".txt\").read()\n",
    "    \n",
    "    match = re.search(pattern,txtfile)\n",
    "    \n",
    "    if match is not None:\n",
    "        # nextnothing number (is a string)\n",
    "        nextnothing = match.groups(1)[0] \n",
    "        \n",
    "        # find the index of the list with filename equal to \"nextnothing.txt\"\n",
    "        nextnothingidx = np.where( mat[:,1] == int(nextnothing) )\n",
    "        cidx = mat[nextnothingidx , 0]\n",
    "        \n",
    "        # now recover the comment from \"nextnothing.txt\" file\n",
    "        # (decode(\"utf-8\") trasforms the comment from byte string to simple string)\n",
    "        c = infolist[int(cidx)].comment.decode(\"utf-8\") \n",
    "        \n",
    "        # finally print the character in current comment\n",
    "        print(c, end='')                 \n",
    "    else:\n",
    "        break\n",
    "    #endif\n",
    "#endwhile"
   ]
  },
  {
   "cell_type": "markdown",
   "metadata": {},
   "source": [
    "Let us replace \"channel.html\" with \"hockey.html\"\n",
    "\n",
    "A new plain webpage says \"**it's in the air. look at the letters.**\". If we look at the web source we don't find anything. Then if we look closer at the message \"hockey\" above, we realise that the word is written with letters, that put together give \"**oxygen**\". \n",
    "\n",
    "Go to the next level by renaming the url with \"oxygen.html\"."
   ]
  },
  {
   "cell_type": "markdown",
   "metadata": {},
   "source": [
    "## Level 7\n",
    "\n",
    "### Solution: integrity \n",
    "\n",
    "There is a picture, with a sequence of little squares in grayscale. Nothing else. \n",
    "\n",
    "We have to read the picture from the url and analyse it."
   ]
  },
  {
   "cell_type": "code",
   "execution_count": 407,
   "metadata": {},
   "outputs": [],
   "source": [
    "from urllib.request import urlopen\n",
    "from PIL import Image"
   ]
  },
  {
   "cell_type": "code",
   "execution_count": 408,
   "metadata": {},
   "outputs": [],
   "source": [
    "url = \"http://www.pythonchallenge.com/pc/def/oxygen.png\"\n",
    "img = Image.open( urlopen(url) )"
   ]
  },
  {
   "cell_type": "code",
   "execution_count": 409,
   "metadata": {},
   "outputs": [
    {
     "data": {
      "image/png": "[encoded data removed]",
      "text/plain": [
       "<PIL.PngImagePlugin.PngImageFile image mode=RGBA size=629x95 at 0x115584358>"
      ]
     },
     "execution_count": 409,
     "metadata": {},
     "output_type": "execute_result"
    }
   ],
   "source": [
    "img"
   ]
  },
  {
   "cell_type": "code",
   "execution_count": 293,
   "metadata": {},
   "outputs": [
    {
     "name": "stdout",
     "output_type": "stream",
     "text": [
      "height: 95\n",
      "width:  629\n"
     ]
    }
   ],
   "source": [
    "width, height = img.size\n",
    "print('height:',height)\n",
    "print('width: ',width)"
   ]
  },
  {
   "cell_type": "markdown",
   "metadata": {},
   "source": [
    "We can get the pixels of the picture using numpy with one line"
   ]
  },
  {
   "cell_type": "code",
   "execution_count": 410,
   "metadata": {},
   "outputs": [],
   "source": [
    "pixels = np.asarray(img)"
   ]
  },
  {
   "cell_type": "code",
   "execution_count": 411,
   "metadata": {},
   "outputs": [
    {
     "data": {
      "text/plain": [
       "(95, 629, 4)"
      ]
     },
     "execution_count": 411,
     "metadata": {},
     "output_type": "execute_result"
    }
   ],
   "source": [
    "pixels.shape"
   ]
  },
  {
   "cell_type": "markdown",
   "metadata": {},
   "source": [
    "Here, pixels is a 95-by-629 matrix whose entries are a lists of 4 numbers.\n",
    "\n",
    "In particular, pixels[i] is the i-th row of the matrix and each entry is a list of 4 elements \n",
    "because pixels are represented with RGB colormap where the fourth number denotes the alpha. \n",
    "\n",
    "We see that the gray band is approximately in the middle of the picture. If we manually look for the rows we see that the band stays on rows from 43 to 52:"
   ]
  },
  {
   "cell_type": "code",
   "execution_count": 412,
   "metadata": {},
   "outputs": [
    {
     "name": "stdout",
     "output_type": "stream",
     "text": [
      "[129 145  74 255]\n",
      "[121 137  66 255]\n",
      "[124 135  67 255]\n",
      "[115 115 115 255]\n",
      "[115 115 115 255]\n",
      "[115 115 115 255]\n",
      "[115 115 115 255]\n",
      "[115 115 115 255]\n",
      "[115 115 115 255]\n",
      "[115 115 115 255]\n",
      "[115 115 115 255]\n",
      "[115 115 115 255]\n",
      "[ 98 127  47 255]\n",
      "[105 134  54 255]\n",
      "[ 96 123  44 255]\n"
     ]
    }
   ],
   "source": [
    "# print, for example, the first column of pixel, from row 40 to row 55\n",
    "for i in range(40,55):\n",
    "    print( pixels[i][0] )\n",
    "#endfor"
   ]
  },
  {
   "cell_type": "markdown",
   "metadata": {},
   "source": [
    "We can see that the band has the same pixel color. \n",
    "\n",
    "Hence, in the first column of the matrix pixels, we see that the block of repeated 9 entries \"[115 115 115 255]\" represents the pixels in the first column of the first gray block in the band. These rows are 43-52.\n",
    "\n",
    "Let us get the band by saving the pixels in a matrix of size 9-by-width-by-3 (we don't save the alpha)."
   ]
  },
  {
   "cell_type": "code",
   "execution_count": 413,
   "metadata": {},
   "outputs": [],
   "source": [
    "def getband(bandheight,width,initialidx):\n",
    "    band = np.zeros((bandheight,width,3))\n",
    "    for i in range(bandheight): \n",
    "        for j in range(width):\n",
    "            band[i,j] = np.array( pixels[i + initialidx][j][:-1] ) \n",
    "    return band\n",
    "#endfunction"
   ]
  },
  {
   "cell_type": "code",
   "execution_count": 414,
   "metadata": {},
   "outputs": [
    {
     "name": "stdout",
     "output_type": "stream",
     "text": [
      "(9, 629, 3)\n"
     ]
    }
   ],
   "source": [
    "initialidx = 43\n",
    "bandheight = 9 \n",
    "band = getband(bandheight,width,initialidx)\n",
    "print( band.shape )"
   ]
  },
  {
   "cell_type": "markdown",
   "metadata": {},
   "source": [
    "Double check: let us plot the band to see if we made some mistake."
   ]
  },
  {
   "cell_type": "code",
   "execution_count": 415,
   "metadata": {},
   "outputs": [],
   "source": [
    "import matplotlib.pyplot as plt"
   ]
  },
  {
   "cell_type": "code",
   "execution_count": 416,
   "metadata": {},
   "outputs": [
    {
     "data": {
      "image/png": "[encoded data removed]",
      "text/plain": [
       "<Figure size 1440x288 with 1 Axes>"
      ]
     },
     "metadata": {},
     "output_type": "display_data"
    }
   ],
   "source": [
    "fig, ax = plt.subplots(1,1, figsize=(20, 4))\n",
    "ax.imshow( (band * 255).astype(np.uint8) ) \n",
    "ax.set_xticks([])\n",
    "ax.set_yticks([])\n",
    "plt.show()"
   ]
  },
  {
   "cell_type": "markdown",
   "metadata": {},
   "source": [
    "Ok. Now, we have a band of gray squares, plus some other pixels the end. \n",
    "\n",
    "Clearly, in each little gray square, the numbers (the pixels values) are the same. \n",
    "That is, let us just pick the first row of the band:"
   ]
  },
  {
   "cell_type": "code",
   "execution_count": 417,
   "metadata": {},
   "outputs": [
    {
     "name": "stdout",
     "output_type": "stream",
     "text": [
      "[115.0, 115.0, 115.0, 115.0, 115.0, 109.0, 109.0, 109.0, 109.0, 109.0, 109.0, 109.0, 97.0, 97.0, 97.0, 97.0, 97.0, 97.0, 97.0, 114.0, 114.0, 114.0, 114.0, 114.0, 114.0, 114.0, 116.0, 116.0, 116.0, 116.0, 116.0, 116.0, 116.0, 32.0, 32.0, 32.0, 32.0, 32.0, 32.0, 32.0, 103.0, 103.0, 103.0, 103.0, 103.0, 103.0, 103.0, 117.0, 117.0, 117.0, 117.0, 117.0, 117.0, 117.0, 121.0, 121.0, 121.0, 121.0, 121.0, 121.0, 121.0, 44.0, 44.0, 44.0, 44.0, 44.0, 44.0, 44.0, 32.0, 32.0, 32.0, 32.0, 32.0, 32.0, 32.0, 121.0, 121.0, 121.0, 121.0, 121.0, 121.0, 121.0, 111.0, 111.0, 111.0, 111.0, 111.0, 111.0, 111.0, 117.0, 117.0, 117.0, 117.0, 117.0, 117.0, 117.0, 32.0, 32.0, 32.0, 32.0, 32.0, 32.0, 32.0, 109.0, 109.0, 109.0, 109.0, 109.0, 109.0, 109.0, 97.0, 97.0, 97.0, 97.0, 97.0, 97.0, 97.0, 100.0, 100.0, 100.0, 100.0, 100.0, 100.0, 100.0, 101.0, 101.0, 101.0, 101.0, 101.0, 101.0, 101.0, 32.0, 32.0, 32.0, 32.0, 32.0, 32.0, 32.0, 105.0, 105.0, 105.0, 105.0, 105.0, 105.0, 105.0, 116.0, 116.0, 116.0, 116.0, 116.0, 116.0, 116.0, 46.0, 46.0, 46.0, 46.0, 46.0, 46.0, 46.0, 32.0, 32.0, 32.0, 32.0, 32.0, 32.0, 32.0, 116.0, 116.0, 116.0, 116.0, 116.0, 116.0, 116.0, 104.0, 104.0, 104.0, 104.0, 104.0, 104.0, 104.0, 101.0, 101.0, 101.0, 101.0, 101.0, 101.0, 101.0, 32.0, 32.0, 32.0, 32.0, 32.0, 32.0, 32.0, 110.0, 110.0, 110.0, 110.0, 110.0, 110.0, 110.0, 101.0, 101.0, 101.0, 101.0, 101.0, 101.0, 101.0, 120.0, 120.0, 120.0, 120.0, 120.0, 120.0, 120.0, 116.0, 116.0, 116.0, 116.0, 116.0, 116.0, 116.0, 32.0, 32.0, 32.0, 32.0, 32.0, 32.0, 32.0, 108.0, 108.0, 108.0, 108.0, 108.0, 108.0, 108.0, 101.0, 101.0, 101.0, 101.0, 101.0, 101.0, 101.0, 118.0, 118.0, 118.0, 118.0, 118.0, 118.0, 118.0, 101.0, 101.0, 101.0, 101.0, 101.0, 101.0, 101.0, 108.0, 108.0, 108.0, 108.0, 108.0, 108.0, 108.0, 32.0, 32.0, 32.0, 32.0, 32.0, 32.0, 32.0, 105.0, 105.0, 105.0, 105.0, 105.0, 105.0, 105.0, 115.0, 115.0, 115.0, 115.0, 115.0, 115.0, 115.0, 32.0, 32.0, 32.0, 32.0, 32.0, 32.0, 32.0, 91.0, 91.0, 91.0, 91.0, 91.0, 91.0, 91.0, 49.0, 49.0, 49.0, 49.0, 49.0, 49.0, 49.0, 48.0, 48.0, 48.0, 48.0, 48.0, 48.0, 48.0, 53.0, 53.0, 53.0, 53.0, 53.0, 53.0, 53.0, 44.0, 44.0, 44.0, 44.0, 44.0, 44.0, 44.0, 32.0, 32.0, 32.0, 32.0, 32.0, 32.0, 32.0, 49.0, 49.0, 49.0, 49.0, 49.0, 49.0, 49.0, 49.0, 49.0, 49.0, 49.0, 49.0, 49.0, 49.0, 48.0, 48.0, 48.0, 48.0, 48.0, 48.0, 48.0, 44.0, 44.0, 44.0, 44.0, 44.0, 44.0, 44.0, 32.0, 32.0, 32.0, 32.0, 32.0, 32.0, 32.0, 49.0, 49.0, 49.0, 49.0, 49.0, 49.0, 49.0, 49.0, 49.0, 49.0, 49.0, 49.0, 49.0, 49.0, 54.0, 54.0, 54.0, 54.0, 54.0, 54.0, 54.0, 44.0, 44.0, 44.0, 44.0, 44.0, 44.0, 44.0, 32.0, 32.0, 32.0, 32.0, 32.0, 32.0, 32.0, 49.0, 49.0, 49.0, 49.0, 49.0, 49.0, 49.0, 48.0, 48.0, 48.0, 48.0, 48.0, 48.0, 48.0, 49.0, 49.0, 49.0, 49.0, 49.0, 49.0, 49.0, 44.0, 44.0, 44.0, 44.0, 44.0, 44.0, 44.0, 32.0, 32.0, 32.0, 32.0, 32.0, 32.0, 32.0, 49.0, 49.0, 49.0, 49.0, 49.0, 49.0, 49.0, 48.0, 48.0, 48.0, 48.0, 48.0, 48.0, 48.0, 51.0, 51.0, 51.0, 51.0, 51.0, 51.0, 51.0, 44.0, 44.0, 44.0, 44.0, 44.0, 44.0, 44.0, 32.0, 32.0, 32.0, 32.0, 32.0, 32.0, 32.0, 49.0, 49.0, 49.0, 49.0, 49.0, 49.0, 49.0, 49.0, 49.0, 49.0, 49.0, 49.0, 49.0, 49.0, 52.0, 52.0, 52.0, 52.0, 52.0, 52.0, 52.0, 44.0, 44.0, 44.0, 44.0, 44.0, 44.0, 44.0, 32.0, 32.0, 32.0, 32.0, 32.0, 32.0, 32.0, 49.0, 49.0, 49.0, 49.0, 49.0, 49.0, 49.0, 48.0, 48.0, 48.0, 48.0, 48.0, 48.0, 48.0, 53.0, 53.0, 53.0, 53.0, 53.0, 53.0, 53.0, 44.0, 44.0, 44.0, 44.0, 44.0, 44.0, 44.0, 32.0, 32.0, 32.0, 32.0, 32.0, 32.0, 32.0, 49.0, 49.0, 49.0, 49.0, 49.0, 49.0, 49.0, 49.0, 49.0, 49.0, 49.0, 49.0, 49.0, 49.0, 54.0, 54.0, 54.0, 54.0, 54.0, 54.0, 54.0, 44.0, 44.0, 44.0, 44.0, 44.0, 44.0, 44.0, 32.0, 32.0, 32.0, 32.0, 32.0, 32.0, 32.0, 49.0, 49.0, 49.0, 49.0, 49.0, 49.0, 49.0, 50.0, 50.0, 50.0, 50.0, 50.0, 50.0, 50.0, 49.0, 49.0, 49.0, 49.0, 49.0, 49.0, 49.0, 93.0, 93.0, 93.0, 93.0, 93.0, 93.0, 93.0, 93.0, 65.0, 117.0, 132.0, 110.0, 129.0, 112.0, 113.0, 161.0, 148.0, 147.0, 166.0, 143.0, 85.0, 83.0, 97.0, 107.0, 106.0, 109.0, 98.0, 103.0, 94.0]\n"
     ]
    }
   ],
   "source": [
    "firstrowband = []\n",
    "for j in range(width):\n",
    "    firstrowband.append( band[0][j][0] )\n",
    "print(firstrowband)"
   ]
  },
  {
   "cell_type": "markdown",
   "metadata": {},
   "source": [
    "Ok. These number have then to be mapped into letters, using chr()."
   ]
  },
  {
   "cell_type": "code",
   "execution_count": 418,
   "metadata": {},
   "outputs": [],
   "source": [
    "def mapintochar(vec_of_int):\n",
    "    getchar = lambda num: chr(num)\n",
    "    return [ getchar( int(vec_of_int[num]) ) for num in range(0,len(vec_of_int)) ]\n",
    "#endfunction"
   ]
  },
  {
   "cell_type": "code",
   "execution_count": 419,
   "metadata": {},
   "outputs": [
    {
     "name": "stdout",
     "output_type": "stream",
     "text": [
      "sssssmmmmmmmaaaaaaarrrrrrrttttttt       ggggggguuuuuuuyyyyyyy,,,,,,,       yyyyyyyooooooouuuuuuu       mmmmmmmaaaaaaadddddddeeeeeee       iiiiiiittttttt.......       ttttttthhhhhhheeeeeee       nnnnnnneeeeeeexxxxxxxttttttt       llllllleeeeeeevvvvvvveeeeeeelllllll       iiiiiiisssssss       [[[[[[[111111100000005555555,,,,,,,       111111111111110000000,,,,,,,       111111111111116666666,,,,,,,       111111100000001111111,,,,,,,       111111100000003333333,,,,,,,       111111111111114444444,,,,,,,       111111100000005555555,,,,,,,       111111111111116666666,,,,,,,       111111122222221111111]]]]]]]]Aunpq¡¦USakjmbg^\n"
     ]
    }
   ],
   "source": [
    "text = mapintochar( firstrowband )\n",
    "print( \"\".join(text) )"
   ]
  },
  {
   "cell_type": "markdown",
   "metadata": {},
   "source": [
    "Due to the repeated values, the message is messy, but we can clearly read the sentence:\n",
    "\n",
    "\"*smart guy, you made it. the next level is [105, 110, 116, 101, 103, 114, 105, 116, 121]*\", \n",
    "\n",
    "plus the rubbish at the end, since we have not cut the band before the noisy pixels. It is clear that we have to map these numbers to chars again:"
   ]
  },
  {
   "cell_type": "code",
   "execution_count": 420,
   "metadata": {},
   "outputs": [
    {
     "name": "stdout",
     "output_type": "stream",
     "text": [
      "integrity\n"
     ]
    }
   ],
   "source": [
    "text = mapintochar( [105, 110, 116, 101, 103, 114, 105, 116, 121] )\n",
    "print( \"\".join(text) )"
   ]
  },
  {
   "cell_type": "markdown",
   "metadata": {},
   "source": [
    "That's the solution!"
   ]
  },
  {
   "cell_type": "markdown",
   "metadata": {},
   "source": [
    "## Level 8"
   ]
  }
 ],
 "metadata": {
  "kernelspec": {
   "display_name": "Python 3",
   "language": "python",
   "name": "python3"
  },
  "language_info": {
   "codemirror_mode": {
    "name": "ipython",
    "version": 3
   },
   "file_extension": ".py",
   "mimetype": "text/x-python",
   "name": "python",
   "nbconvert_exporter": "python",
   "pygments_lexer": "ipython3",
   "version": "3.7.1"
  }
 },
 "nbformat": 4,
 "nbformat_minor": 2
}
